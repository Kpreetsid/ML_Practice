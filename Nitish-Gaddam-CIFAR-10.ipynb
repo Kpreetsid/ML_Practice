{
 "cells": [
  {
   "cell_type": "markdown",
   "metadata": {
    "colab_type": "text",
    "id": "Jh_ZkVCbGsI2"
   },
   "source": [
    "# Instructions\n",
    "\n",
    "This is an imperfect implementation of ResNet configured to train with the CIFAR-10 dataset.\n",
    "\n",
    "There are a few bugs and it should be able to reach a higher accuracy. See what you can do to fix it and write a few paragraphs about what you did."
   ]
  },
  {
   "cell_type": "markdown",
   "metadata": {
    "colab_type": "text",
    "id": "4iI079DBDSW9"
   },
   "source": [
    "# Imports"
   ]
  },
  {
   "cell_type": "code",
   "execution_count": 14,
   "metadata": {
    "cellView": "both",
    "colab": {
     "autoexec": {
      "startup": false,
      "wait_interval": 0
     },
     "base_uri": "https://localhost:8080/",
     "height": 51,
     "output_extras": [
      {}
     ]
    },
    "colab_type": "code",
    "executionInfo": {
     "elapsed": 444,
     "status": "ok",
     "timestamp": 1522769563590,
     "user": {
      "displayName": "Jim Fleming",
      "photoUrl": "//lh5.googleusercontent.com/-bMUyWrg0nTk/AAAAAAAAAAI/AAAAAAAAADA/bxg68Muit30/s50-c-k-no/photo.jpg",
      "userId": "110726001486577440958"
     },
     "user_tz": 420
    },
    "id": "2iVqm5Jr-078",
    "outputId": "7a1fe860-7553-4e82-e14f-c64c012c8d6e"
   },
   "outputs": [
    {
     "ename": "ImportError",
     "evalue": "cannot import name pywrap_tensorflow",
     "output_type": "error",
     "traceback": [
      "\u001b[0;31m---------------------------------------------------------------------------\u001b[0m",
      "\u001b[0;31mImportError\u001b[0m                               Traceback (most recent call last)",
      "\u001b[0;32m<ipython-input-14-d1e32a28a86e>\u001b[0m in \u001b[0;36m<module>\u001b[0;34m()\u001b[0m\n\u001b[1;32m      6\u001b[0m \u001b[0;32mimport\u001b[0m \u001b[0mtime\u001b[0m\u001b[0;34m\u001b[0m\u001b[0m\n\u001b[1;32m      7\u001b[0m \u001b[0;32mimport\u001b[0m \u001b[0mtarfile\u001b[0m\u001b[0;34m\u001b[0m\u001b[0m\n\u001b[0;32m----> 8\u001b[0;31m \u001b[0;32mimport\u001b[0m \u001b[0mtensorflow\u001b[0m \u001b[0;32mas\u001b[0m \u001b[0mtf\u001b[0m\u001b[0;34m\u001b[0m\u001b[0m\n\u001b[0m\u001b[1;32m      9\u001b[0m \u001b[0;32mimport\u001b[0m \u001b[0mmatplotlib\u001b[0m\u001b[0;34m.\u001b[0m\u001b[0mpyplot\u001b[0m \u001b[0;32mas\u001b[0m \u001b[0mplt\u001b[0m\u001b[0;34m\u001b[0m\u001b[0m\n\u001b[1;32m     10\u001b[0m \u001b[0;32mimport\u001b[0m \u001b[0mnumpy\u001b[0m \u001b[0;32mas\u001b[0m \u001b[0mnp\u001b[0m\u001b[0;34m\u001b[0m\u001b[0m\n",
      "\u001b[0;32m/Users/gaddamnitish/anaconda3/envs/py27/lib/python2.7/site-packages/tensorflow/__init__.py\u001b[0m in \u001b[0;36m<module>\u001b[0;34m()\u001b[0m\n\u001b[1;32m     22\u001b[0m \u001b[0;34m\u001b[0m\u001b[0m\n\u001b[1;32m     23\u001b[0m \u001b[0;31m# pylint: disable=wildcard-import\u001b[0m\u001b[0;34m\u001b[0m\u001b[0;34m\u001b[0m\u001b[0m\n\u001b[0;32m---> 24\u001b[0;31m \u001b[0;32mfrom\u001b[0m \u001b[0mtensorflow\u001b[0m\u001b[0;34m.\u001b[0m\u001b[0mpython\u001b[0m \u001b[0;32mimport\u001b[0m \u001b[0;34m*\u001b[0m  \u001b[0;31m# pylint: disable=redefined-builtin\u001b[0m\u001b[0;34m\u001b[0m\u001b[0m\n\u001b[0m\u001b[1;32m     25\u001b[0m \u001b[0;31m# pylint: enable=wildcard-import\u001b[0m\u001b[0;34m\u001b[0m\u001b[0;34m\u001b[0m\u001b[0m\n\u001b[1;32m     26\u001b[0m \u001b[0;34m\u001b[0m\u001b[0m\n",
      "\u001b[0;32m/Users/gaddamnitish/anaconda3/envs/py27/lib/python2.7/site-packages/tensorflow/python/__init__.py\u001b[0m in \u001b[0;36m<module>\u001b[0;34m()\u001b[0m\n\u001b[1;32m     47\u001b[0m \u001b[0;32mimport\u001b[0m \u001b[0mnumpy\u001b[0m \u001b[0;32mas\u001b[0m \u001b[0mnp\u001b[0m\u001b[0;34m\u001b[0m\u001b[0m\n\u001b[1;32m     48\u001b[0m \u001b[0;34m\u001b[0m\u001b[0m\n\u001b[0;32m---> 49\u001b[0;31m \u001b[0;32mfrom\u001b[0m \u001b[0mtensorflow\u001b[0m\u001b[0;34m.\u001b[0m\u001b[0mpython\u001b[0m \u001b[0;32mimport\u001b[0m \u001b[0mpywrap_tensorflow\u001b[0m\u001b[0;34m\u001b[0m\u001b[0m\n\u001b[0m\u001b[1;32m     50\u001b[0m \u001b[0;34m\u001b[0m\u001b[0m\n\u001b[1;32m     51\u001b[0m \u001b[0;31m# Protocol buffers\u001b[0m\u001b[0;34m\u001b[0m\u001b[0;34m\u001b[0m\u001b[0m\n",
      "\u001b[0;31mImportError\u001b[0m: cannot import name pywrap_tensorflow"
     ]
    }
   ],
   "source": [
    "from __future__ import absolute_import\n",
    "from __future__ import print_function\n",
    "from __future__ import division\n",
    "\n",
    "import os\n",
    "import time\n",
    "import tarfile\n",
    "import tensorflow as tf\n",
    "import matplotlib.pyplot as plt\n",
    "import numpy as np\n",
    "\n",
    "from google.colab import files\n",
    "\n",
    "print('TensorFlow Version:', tf.VERSION)\n",
    "print('TensorFlow GPU:', tf.test.gpu_device_name())"
   ]
  },
  {
   "cell_type": "markdown",
   "metadata": {
    "colab_type": "text",
    "id": "JKaCOUwrK1au"
   },
   "source": [
    "# Data"
   ]
  },
  {
   "cell_type": "code",
   "execution_count": 0,
   "metadata": {
    "colab": {
     "autoexec": {
      "startup": false,
      "wait_interval": 0
     },
     "base_uri": "https://localhost:8080/",
     "height": 34,
     "output_extras": [
      {}
     ]
    },
    "colab_type": "code",
    "executionInfo": {
     "elapsed": 269,
     "status": "ok",
     "timestamp": 1522769564675,
     "user": {
      "displayName": "Jim Fleming",
      "photoUrl": "//lh5.googleusercontent.com/-bMUyWrg0nTk/AAAAAAAAAAI/AAAAAAAAADA/bxg68Muit30/s50-c-k-no/photo.jpg",
      "userId": "110726001486577440958"
     },
     "user_tz": 420
    },
    "id": "7gy8inTwL8lI",
    "outputId": "3a1287b8-8f81-4984-b28e-89c62327a6b9"
   },
   "outputs": [
    {
     "data": {
      "text/plain": [
       "'/content/.keras/datasets/cifar-10-batches-bin'"
      ]
     },
     "execution_count": 34,
     "metadata": {
      "tags": []
     },
     "output_type": "execute_result"
    }
   ],
   "source": [
    "data_name = 'cifar-10-batches-bin'\n",
    "data_dir = os.path.join('/content/.keras/datasets', data_name)\n",
    "data_url = 'https://www.cs.toronto.edu/~kriz/cifar-10-binary.tar.gz'\n",
    "tf.keras.utils.get_file(data_name, data_url, untar=True)"
   ]
  },
  {
   "cell_type": "markdown",
   "metadata": {
    "colab_type": "text",
    "id": "H_xuw_3zKwhs"
   },
   "source": [
    "# Inputs"
   ]
  },
  {
   "cell_type": "code",
   "execution_count": 0,
   "metadata": {
    "colab": {
     "autoexec": {
      "startup": false,
      "wait_interval": 0
     }
    },
    "colab_type": "code",
    "id": "DRE_SKGgKzQb"
   },
   "outputs": [],
   "source": [
    "def get_input_fn(filenames, batch_size, num_epochs, shuffle=False, augment=False):\n",
    "    label_bytes = 1\n",
    "    image_height = 32\n",
    "    image_width = 32\n",
    "    image_depth = 3\n",
    "    image_bytes = image_height * image_width * image_depth\n",
    "    record_bytes = label_bytes + image_bytes\n",
    "\n",
    "    def _parse_record(value):\n",
    "        raw_data = tf.decode_raw(value, tf.uint8)\n",
    "        raw_data.set_shape([record_bytes])\n",
    "        label = tf.squeeze(tf.cast(raw_data[:label_bytes], tf.int32), axis=0)\n",
    "        depth_major = tf.reshape(\n",
    "            raw_data[label_bytes:],\n",
    "            [image_depth, image_height, image_width])\n",
    "        image = tf.transpose(depth_major, [1, 2, 0])\n",
    "        image = tf.to_float(image) / 255\n",
    "        if augment:\n",
    "            image = tf.image.random_flip_left_right(image)\n",
    "            image = tf.image.random_brightness(image, max_delta=0.2)\n",
    "            image = tf.image.random_contrast(image, lower=0.2, upper=1.8)\n",
    "            image = tf.clip_by_value(image, 0.0, 1.0)\n",
    "        features = {'image': image}\n",
    "        labels = {'label': label}\n",
    "        return features, labels\n",
    "        \n",
    "    def _input_fn():\n",
    "        with tf.device('/cpu:0'):\n",
    "            dataset = tf.data.FixedLengthRecordDataset(filenames, record_bytes)\n",
    "            dataset = dataset.map(\n",
    "                map_func=_parse_record,\n",
    "                num_parallel_calls=4)\n",
    "            if shuffle:\n",
    "                dataset = dataset.shuffle(buffer_size=10000)\n",
    "            dataset = dataset.batch(batch_size)\n",
    "            dataset = dataset.prefetch(buffer_size=1000)\n",
    "            dataset = dataset.repeat(num_epochs)\n",
    "            iterator = dataset.make_one_shot_iterator()\n",
    "            return iterator.get_next()\n",
    "    return _input_fn"
   ]
  },
  {
   "cell_type": "code",
   "execution_count": 0,
   "metadata": {
    "colab": {
     "autoexec": {
      "startup": false,
      "wait_interval": 0
     },
     "base_uri": "https://localhost:8080/",
     "height": 598,
     "output_extras": [
      {},
      {}
     ]
    },
    "colab_type": "code",
    "executionInfo": {
     "elapsed": 4056,
     "status": "ok",
     "timestamp": 1522769569409,
     "user": {
      "displayName": "Jim Fleming",
      "photoUrl": "//lh5.googleusercontent.com/-bMUyWrg0nTk/AAAAAAAAAAI/AAAAAAAAADA/bxg68Muit30/s50-c-k-no/photo.jpg",
      "userId": "110726001486577440958"
     },
     "user_tz": 420
    },
    "id": "GbF8GxfvMs5K",
    "outputId": "fad015ee-3009-419a-a0db-7575cbbe85ee"
   },
   "outputs": [
    {
     "name": "stdout",
     "output_type": "stream",
     "text": [
      "Images Min: 0.0 Max: 1.0\n"
     ]
    },
    {
     "data": {
      "image/png": "[encoded data removed]",
      "text/plain": [
       "<matplotlib.figure.Figure at 0x7f1e4a33d950>"
      ]
     },
     "metadata": {
      "tags": []
     },
     "output_type": "display_data"
    }
   ],
   "source": [
    "with tf.Session() as sess:\n",
    "    input_fn = get_input_fn(\n",
    "        filenames=[os.path.join(data_dir, 'test_batch.bin')],\n",
    "        batch_size=16,\n",
    "        num_epochs=1,\n",
    "        shuffle=False,\n",
    "        augment=False)\n",
    "\n",
    "    features, labels = input_fn()\n",
    "    image_batch, label_batch = sess.run([features['image'], labels['label']])\n",
    "    print('Images Min:', image_batch.min(), 'Max:', image_batch.max())\n",
    "\n",
    "    fig, axes = plt.subplots(4, 4, figsize=(8, 8))\n",
    "    for i, ax in enumerate(axes.ravel()):\n",
    "        ax.imshow(image_batch[i])\n",
    "        ax.grid(False)\n",
    "        ax.axis('off')\n",
    "        ax.set_title('Label: {}'.format(label_batch[i]))\n",
    "    plt.tight_layout()"
   ]
  },
  {
   "cell_type": "markdown",
   "metadata": {
    "colab_type": "text",
    "id": "v9ih6KgrLCgf"
   },
   "source": [
    "# Model"
   ]
  },
  {
   "cell_type": "code",
   "execution_count": 0,
   "metadata": {
    "colab": {
     "autoexec": {
      "startup": false,
      "wait_interval": 0
     }
    },
    "colab_type": "code",
    "id": "RbGhOg7vkwPo"
   },
   "outputs": [],
   "source": [
    "def batch_norm(inputs, momentum, training):\n",
    "    return tf.layers.batch_normalization(\n",
    "        inputs=inputs,\n",
    "        scale=False,\n",
    "        momentum=momentum,\n",
    "        training=training,\n",
    "        fused=True)\n",
    "\n",
    "def resnet_block(inputs, filters, strides, training, params):\n",
    "    kernel_initializer = tf.initializers.variance_scaling(scale=2.0)\n",
    "    kernel_regularizer = tf.contrib.layers.l2_regularizer(scale=params['l2_scale'])\n",
    "\n",
    "    inputs = batch_norm(\n",
    "        inputs=inputs,\n",
    "        momentum=params['bn_momentum'],\n",
    "        training=training)\n",
    "    inputs = tf.nn.relu(inputs)\n",
    "\n",
    "    hidden = tf.layers.conv2d(\n",
    "        inputs=inputs,\n",
    "        filters=filters,\n",
    "        kernel_size=3,\n",
    "        strides=strides,\n",
    "        use_bias=False,\n",
    "        kernel_initializer=kernel_initializer,\n",
    "        kernel_regularizer=kernel_regularizer,\n",
    "        padding='same')\n",
    "\n",
    "    hidden = batch_norm(\n",
    "        inputs=hidden,\n",
    "        momentum=params['bn_momentum'],\n",
    "        training=training)\n",
    "    hidden = tf.nn.relu(hidden)\n",
    "    hidden = tf.layers.conv2d(\n",
    "        inputs=hidden,\n",
    "        filters=filters,\n",
    "        kernel_size=3,\n",
    "        strides=1,\n",
    "        use_bias=False,\n",
    "        kernel_initializer=kernel_initializer,\n",
    "        kernel_regularizer=kernel_regularizer,\n",
    "        padding='same')\n",
    "\n",
    "    inputs_padded = tf.layers.conv2d(\n",
    "        inputs=inputs,\n",
    "        filters=filters,\n",
    "        kernel_size=1,\n",
    "        strides=strides,\n",
    "        use_bias=False,\n",
    "        padding='same',\n",
    "        kernel_initializer=kernel_initializer,\n",
    "        kernel_regularizer=kernel_regularizer)\n",
    "    hidden = hidden + inputs_padded\n",
    "    return hidden\n",
    "\n",
    "def resnet_layer(inputs, filters, strides, training, params):\n",
    "    hidden = resnet_block(inputs, filters, strides, training, params)\n",
    "    hidden = resnet_block(hidden, filters, 1, training, params)\n",
    "    hidden = resnet_block(hidden, filters, 1, training, params)\n",
    "    hidden = resnet_block(hidden, filters, 1, training, params)\n",
    "    hidden = resnet_block(hidden, filters, 1, training, params)\n",
    "    hidden = resnet_block(hidden, filters, 1, training, params)\n",
    "    return hidden"
   ]
  },
  {
   "cell_type": "code",
   "execution_count": 0,
   "metadata": {
    "colab": {
     "autoexec": {
      "startup": false,
      "wait_interval": 0
     }
    },
    "colab_type": "code",
    "id": "Ch-hDue_LEu-"
   },
   "outputs": [],
   "source": [
    "def model_fn(features, labels, mode, params):\n",
    "    kernel_initializer = tf.initializers.variance_scaling(scale=2.0)\n",
    "    kernel_regularizer = tf.contrib.layers.l2_regularizer(scale=params['l2_scale'])\n",
    "    training = (mode == tf.estimator.ModeKeys.TRAIN)\n",
    "    num_classes = 10\n",
    "\n",
    "    inputs = features['image'] * 2 - 1\n",
    "\n",
    "    hidden = tf.layers.conv2d(\n",
    "        inputs=inputs,\n",
    "        filters=16,\n",
    "        kernel_size=3,\n",
    "        kernel_initializer=kernel_initializer,\n",
    "        kernel_regularizer=kernel_regularizer,\n",
    "        padding='same')\n",
    "\n",
    "    hidden = resnet_layer(hidden, filters=16, strides=2, training=training, params=params)\n",
    "    hidden = resnet_layer(hidden, filters=32, strides=1, training=training, params=params)\n",
    "    hidden = resnet_layer(hidden, filters=64, strides=1, training=training, params=params)\n",
    "\n",
    "    hidden = batch_norm(\n",
    "        inputs=hidden,\n",
    "        momentum=params['bn_momentum'],\n",
    "        training=training)\n",
    "    hidden = tf.nn.relu(hidden)\n",
    "\n",
    "    hidden = tf.reduce_mean(hidden, axis=[1, 2])\n",
    "\n",
    "    logits = tf.layers.dense(\n",
    "        inputs=hidden,\n",
    "        units=num_classes,\n",
    "        kernel_initializer=kernel_initializer,\n",
    "        kernel_regularizer=kernel_regularizer)\n",
    "\n",
    "    outputs = tf.nn.softmax(logits)\n",
    "    prediction = tf.argmax(outputs, axis=-1)\n",
    "    \n",
    "    predictions = {\n",
    "        'prediction': prediction\n",
    "    }\n",
    "\n",
    "    loss = None\n",
    "    if mode != tf.estimator.ModeKeys.PREDICT:\n",
    "        loss = tf.losses.sparse_softmax_cross_entropy(\n",
    "            labels=labels['label'],\n",
    "            logits=logits)\n",
    "        loss = tf.losses.get_total_loss()\n",
    "        \n",
    "    train_op = None\n",
    "    if mode == tf.estimator.ModeKeys.TRAIN:\n",
    "        global_step = tf.train.get_or_create_global_step()\n",
    "        learning_rate = tf.train.piecewise_constant(\n",
    "            boundaries=params['lr_boundaries'],\n",
    "            values=params['lr_values'],\n",
    "            x=global_step)\n",
    "\n",
    "        optimizer = tf.train.MomentumOptimizer(\n",
    "            learning_rate=learning_rate,\n",
    "            momentum=params['momentum'])\n",
    "        with tf.control_dependencies(tf.get_collection(tf.GraphKeys.UPDATE_OPS)):\n",
    "            train_op = optimizer.minimize(\n",
    "                global_step=global_step,\n",
    "                loss=loss)\n",
    "\n",
    "    eval_metric_ops = None\n",
    "    if mode != tf.estimator.ModeKeys.PREDICT:\n",
    "        eval_metric_ops = {\n",
    "            'accuracy': tf.metrics.accuracy(\n",
    "                predictions=predictions['prediction'],\n",
    "                labels=labels['label'])\n",
    "        }\n",
    "\n",
    "    estimator_spec = tf.estimator.EstimatorSpec(\n",
    "        loss=loss,\n",
    "        mode=mode,\n",
    "        train_op=train_op,\n",
    "        predictions=predictions,\n",
    "        eval_metric_ops=eval_metric_ops)\n",
    "    return estimator_spec"
   ]
  },
  {
   "cell_type": "markdown",
   "metadata": {
    "colab_type": "text",
    "id": "Zx_enNtMKsuH"
   },
   "source": [
    "# Training"
   ]
  },
  {
   "cell_type": "code",
   "execution_count": 0,
   "metadata": {
    "colab": {
     "autoexec": {
      "startup": false,
      "wait_interval": 0
     },
     "base_uri": "https://localhost:8080/",
     "height": 2434,
     "output_extras": [
      {},
      {},
      {}
     ]
    },
    "colab_type": "code",
    "id": "nvBISqbuDu1k",
    "outputId": "9401f25b-0cc5-4f29-c2a0-ebcfa2705a92"
   },
   "outputs": [
    {
     "name": "stdout",
     "output_type": "stream",
     "text": [
      "Model Directory: jobs/1522769570\n",
      "Hyperparameters: {'lr_boundaries': [1000, 2000], 'momentum': 0.9, 'bn_momentum': 0.99, 'l2_scale': 0.0001, 'lr_values': [0.1, 0.01, 0.001]}\n",
      "INFO:tensorflow:Using config: {'_save_checkpoints_secs': None, '_session_config': None, '_keep_checkpoint_max': 5, '_task_type': 'worker', '_global_id_in_cluster': 0, '_is_chief': True, '_cluster_spec': <tensorflow.python.training.server_lib.ClusterSpec object at 0x7f1e483364d0>, '_evaluation_master': '', '_save_checkpoints_steps': 1000, '_keep_checkpoint_every_n_hours': 10000, '_service': None, '_num_ps_replicas': 0, '_tf_random_seed': None, '_master': '', '_num_worker_replicas': 1, '_task_id': 0, '_log_step_count_steps': 100, '_model_dir': 'jobs/1522769570', '_save_summary_steps': 100}\n",
      "INFO:tensorflow:Running training and evaluation locally (non-distributed).\n",
      "INFO:tensorflow:Start train and evaluate loop. The evaluate will happen after 300 secs (eval_spec.throttle_secs) or training is finished.\n",
      "INFO:tensorflow:Calling model_fn.\n",
      "INFO:tensorflow:Done calling model_fn.\n",
      "INFO:tensorflow:Create CheckpointSaverHook.\n",
      "INFO:tensorflow:Graph was finalized.\n",
      "INFO:tensorflow:Running local_init_op.\n",
      "INFO:tensorflow:Done running local_init_op.\n",
      "INFO:tensorflow:Saving checkpoints for 1 into jobs/1522769570/model.ckpt.\n",
      "INFO:tensorflow:loss = 2.5851061, step = 1\n",
      "INFO:tensorflow:global_step/sec: 2.41255\n",
      "INFO:tensorflow:loss = 2.0360875, step = 101 (41.451 sec)\n",
      "INFO:tensorflow:global_step/sec: 2.50442\n",
      "INFO:tensorflow:loss = 1.9359419, step = 201 (39.940 sec)\n",
      "INFO:tensorflow:global_step/sec: 2.60598\n",
      "INFO:tensorflow:loss = 1.7742838, step = 301 (38.364 sec)\n",
      "INFO:tensorflow:global_step/sec: 2.5028\n",
      "INFO:tensorflow:loss = 1.7685987, step = 401 (39.957 sec)\n",
      "INFO:tensorflow:global_step/sec: 2.61014\n",
      "INFO:tensorflow:loss = 1.7156684, step = 501 (38.313 sec)\n",
      "INFO:tensorflow:global_step/sec: 2.50776\n",
      "INFO:tensorflow:loss = 1.5870397, step = 601 (39.879 sec)\n",
      "INFO:tensorflow:global_step/sec: 2.6097\n",
      "INFO:tensorflow:loss = 1.4641153, step = 701 (38.317 sec)\n",
      "INFO:tensorflow:Saving checkpoints for 738 into jobs/1522769570/model.ckpt.\n",
      "INFO:tensorflow:Loss for final step: 1.464026.\n",
      "INFO:tensorflow:Calling model_fn.\n",
      "INFO:tensorflow:Done calling model_fn.\n",
      "INFO:tensorflow:Starting evaluation at 2018-04-03-15:37:57\n",
      "INFO:tensorflow:Graph was finalized.\n",
      "INFO:tensorflow:Restoring parameters from jobs/1522769570/model.ckpt-738\n",
      "INFO:tensorflow:Running local_init_op.\n",
      "INFO:tensorflow:Done running local_init_op.\n",
      "INFO:tensorflow:Evaluation [10/100]\n",
      "INFO:tensorflow:Evaluation [20/100]\n",
      "INFO:tensorflow:Evaluation [30/100]\n",
      "INFO:tensorflow:Evaluation [40/100]\n",
      "INFO:tensorflow:Finished evaluation at 2018-04-03-15:38:02\n",
      "INFO:tensorflow:Saving dict for global step 738: accuracy = 0.474, global_step = 738, loss = 1.7852933\n",
      "INFO:tensorflow:Calling model_fn.\n",
      "INFO:tensorflow:Done calling model_fn.\n",
      "INFO:tensorflow:Create CheckpointSaverHook.\n",
      "INFO:tensorflow:Graph was finalized.\n",
      "INFO:tensorflow:Restoring parameters from jobs/1522769570/model.ckpt-738\n",
      "INFO:tensorflow:Running local_init_op.\n",
      "INFO:tensorflow:Done running local_init_op.\n",
      "INFO:tensorflow:Saving checkpoints for 739 into jobs/1522769570/model.ckpt.\n",
      "INFO:tensorflow:loss = 1.5266762, step = 739\n",
      "INFO:tensorflow:global_step/sec: 2.43879\n",
      "INFO:tensorflow:loss = 1.5383127, step = 839 (41.010 sec)\n",
      "INFO:tensorflow:global_step/sec: 2.50739\n",
      "INFO:tensorflow:loss = 1.3913659, step = 939 (39.884 sec)\n",
      "INFO:tensorflow:global_step/sec: 2.60719\n",
      "INFO:tensorflow:loss = 1.1947991, step = 1039 (38.351 sec)\n",
      "INFO:tensorflow:global_step/sec: 2.50678\n",
      "INFO:tensorflow:loss = 1.2099195, step = 1139 (39.895 sec)\n",
      "INFO:tensorflow:global_step/sec: 2.61037\n",
      "INFO:tensorflow:loss = 1.0639611, step = 1239 (38.310 sec)\n",
      "INFO:tensorflow:global_step/sec: 2.50781\n",
      "INFO:tensorflow:loss = 1.1801223, step = 1339 (39.872 sec)\n",
      "INFO:tensorflow:global_step/sec: 2.6106\n",
      "INFO:tensorflow:loss = 1.0911791, step = 1439 (38.306 sec)\n",
      "INFO:tensorflow:Saving checkpoints for 1479 into jobs/1522769570/model.ckpt.\n",
      "INFO:tensorflow:Loss for final step: 1.1021699.\n",
      "INFO:tensorflow:Calling model_fn.\n",
      "INFO:tensorflow:Done calling model_fn.\n",
      "INFO:tensorflow:Starting evaluation at 2018-04-03-15:43:09\n",
      "INFO:tensorflow:Graph was finalized.\n",
      "INFO:tensorflow:Restoring parameters from jobs/1522769570/model.ckpt-1479\n",
      "INFO:tensorflow:Running local_init_op.\n",
      "INFO:tensorflow:Done running local_init_op.\n",
      "INFO:tensorflow:Evaluation [10/100]\n",
      "INFO:tensorflow:Evaluation [20/100]\n",
      "INFO:tensorflow:Evaluation [30/100]\n",
      "INFO:tensorflow:Evaluation [40/100]\n",
      "INFO:tensorflow:Finished evaluation at 2018-04-03-15:43:13\n",
      "INFO:tensorflow:Saving dict for global step 1479: accuracy = 0.641, global_step = 1479, loss = 1.168431\n",
      "INFO:tensorflow:Calling model_fn.\n",
      "INFO:tensorflow:Done calling model_fn.\n",
      "INFO:tensorflow:Create CheckpointSaverHook.\n",
      "INFO:tensorflow:Graph was finalized.\n",
      "INFO:tensorflow:Restoring parameters from jobs/1522769570/model.ckpt-1479\n",
      "INFO:tensorflow:Running local_init_op.\n",
      "INFO:tensorflow:Done running local_init_op.\n",
      "INFO:tensorflow:Saving checkpoints for 1480 into jobs/1522769570/model.ckpt.\n",
      "INFO:tensorflow:loss = 1.1032535, step = 1480\n",
      "INFO:tensorflow:global_step/sec: 2.40106\n",
      "INFO:tensorflow:loss = 1.0231119, step = 1580 (41.650 sec)\n",
      "INFO:tensorflow:global_step/sec: 2.50714\n",
      "INFO:tensorflow:loss = 1.1431658, step = 1680 (39.892 sec)\n",
      "INFO:tensorflow:global_step/sec: 2.61301\n",
      "INFO:tensorflow:loss = 1.0614495, step = 1780 (38.268 sec)\n",
      "INFO:tensorflow:global_step/sec: 2.5223\n",
      "INFO:tensorflow:loss = 1.0840397, step = 1880 (39.649 sec)\n",
      "INFO:tensorflow:global_step/sec: 2.62217\n",
      "INFO:tensorflow:loss = 1.0816431, step = 1980 (38.132 sec)\n",
      "INFO:tensorflow:global_step/sec: 2.51904\n",
      "INFO:tensorflow:loss = 0.9814845, step = 2080 (39.697 sec)\n",
      "INFO:tensorflow:global_step/sec: 2.61773\n",
      "INFO:tensorflow:loss = 0.9994856, step = 2180 (38.205 sec)\n",
      "INFO:tensorflow:Saving checkpoints for 2220 into jobs/1522769570/model.ckpt.\n",
      "INFO:tensorflow:Loss for final step: 0.9882607.\n",
      "INFO:tensorflow:Calling model_fn.\n",
      "INFO:tensorflow:Done calling model_fn.\n",
      "INFO:tensorflow:Starting evaluation at 2018-04-03-15:48:19\n",
      "INFO:tensorflow:Graph was finalized.\n",
      "INFO:tensorflow:Restoring parameters from jobs/1522769570/model.ckpt-2220\n",
      "INFO:tensorflow:Running local_init_op.\n",
      "INFO:tensorflow:Done running local_init_op.\n",
      "INFO:tensorflow:Evaluation [10/100]\n",
      "INFO:tensorflow:Evaluation [20/100]\n",
      "INFO:tensorflow:Evaluation [30/100]\n",
      "INFO:tensorflow:Evaluation [40/100]\n",
      "INFO:tensorflow:Finished evaluation at 2018-04-03-15:48:24\n",
      "INFO:tensorflow:Saving dict for global step 2220: accuracy = 0.6912, global_step = 2220, loss = 1.0292851\n",
      "INFO:tensorflow:Calling model_fn.\n",
      "INFO:tensorflow:Done calling model_fn.\n",
      "INFO:tensorflow:Create CheckpointSaverHook.\n",
      "INFO:tensorflow:Graph was finalized.\n",
      "INFO:tensorflow:Restoring parameters from jobs/1522769570/model.ckpt-2220\n",
      "INFO:tensorflow:Running local_init_op.\n",
      "INFO:tensorflow:Done running local_init_op.\n",
      "INFO:tensorflow:Saving checkpoints for 2221 into jobs/1522769570/model.ckpt.\n",
      "INFO:tensorflow:loss = 0.98717695, step = 2221\n",
      "INFO:tensorflow:global_step/sec: 2.4809\n",
      "INFO:tensorflow:loss = 1.0000134, step = 2321 (40.313 sec)\n",
      "INFO:tensorflow:global_step/sec: 2.51872\n",
      "INFO:tensorflow:loss = 0.9771461, step = 2421 (39.707 sec)\n",
      "INFO:tensorflow:global_step/sec: 2.62311\n",
      "INFO:tensorflow:loss = 0.981297, step = 2521 (38.118 sec)\n",
      "INFO:tensorflow:global_step/sec: 2.51619\n",
      "INFO:tensorflow:loss = 0.9755035, step = 2621 (39.740 sec)\n",
      "INFO:tensorflow:global_step/sec: 2.62201\n",
      "INFO:tensorflow:loss = 0.926662, step = 2721 (38.141 sec)\n",
      "INFO:tensorflow:global_step/sec: 2.5176\n",
      "INFO:tensorflow:loss = 0.9588964, step = 2821 (39.723 sec)\n",
      "INFO:tensorflow:global_step/sec: 2.62522\n",
      "INFO:tensorflow:loss = 0.99170995, step = 2921 (38.091 sec)\n"
     ]
    }
   ],
   "source": [
    "max_steps_train = 3000\n",
    "batch_size = 256\n",
    "model_dir = os.path.join('jobs/', str(int(time.time())))\n",
    "print('Model Directory:', model_dir)\n",
    "\n",
    "params = {\n",
    "    'l2_scale': 1e-4,\n",
    "    'lr_values': [1e-1, 1e-2, 1e-3],\n",
    "    'lr_boundaries': [max_steps_train // 3, max_steps_train // 3 * 2],\n",
    "    'bn_momentum': 0.99,\n",
    "    'momentum': 0.9,\n",
    "}\n",
    "print('Hyperparameters:', params)\n",
    "\n",
    "config = tf.estimator.RunConfig(\n",
    "    save_checkpoints_steps=1000,\n",
    "    save_checkpoints_secs=None,\n",
    "    save_summary_steps=100)\n",
    "\n",
    "tf.logging.set_verbosity(tf.logging.INFO)\n",
    "\n",
    "estimator = tf.estimator.Estimator(\n",
    "    model_fn=model_fn,\n",
    "    model_dir=model_dir,\n",
    "    config=config,\n",
    "    params=params)\n",
    "\n",
    "filenames_train = [\n",
    "    os.path.join(data_dir, 'data_batch_{}.bin'.format(i))\n",
    "    for i in xrange(1, 6)]\n",
    "filenames_eval = [os.path.join(data_dir, 'test_batch.bin')]\n",
    "\n",
    "input_fn_train = get_input_fn(\n",
    "    filenames=filenames_train,\n",
    "    batch_size=batch_size,\n",
    "    num_epochs=None,\n",
    "    shuffle=True,\n",
    "    augment=True)\n",
    "input_fn_eval = get_input_fn(\n",
    "    filenames=filenames_eval,\n",
    "    batch_size=batch_size,\n",
    "    num_epochs=1,\n",
    "    shuffle=False,\n",
    "    augment=False)\n",
    "\n",
    "train_spec = tf.estimator.TrainSpec(\n",
    "    input_fn=input_fn_train,\n",
    "    max_steps=max_steps_train)\n",
    "eval_spec = tf.estimator.EvalSpec(\n",
    "    input_fn=input_fn_eval,\n",
    "    start_delay_secs=0,\n",
    "    throttle_secs=60 * 5)\n",
    "\n",
    "tf.estimator.train_and_evaluate(\n",
    "    train_spec=train_spec,\n",
    "    eval_spec=eval_spec,\n",
    "    estimator=estimator)"
   ]
  },
  {
   "cell_type": "markdown",
   "metadata": {},
   "source": []
  },
  {
   "cell_type": "markdown",
   "metadata": {
    "colab_type": "text",
    "id": "otL8RWiLDy4l"
   },
   "source": [
    "# Download\n",
    "\n",
    "You can download the model directory for inspection via TensorBoard."
   ]
  },
  {
   "cell_type": "code",
   "execution_count": 2,
   "metadata": {
    "colab": {
     "autoexec": {
      "startup": false,
      "wait_interval": 0
     },
     "base_uri": "https://localhost:8080/",
     "height": 34,
     "output_extras": [
      {}
     ]
    },
    "colab_type": "code",
    "executionInfo": {
     "elapsed": 12500,
     "status": "ok",
     "timestamp": 1522768166850,
     "user": {
      "displayName": "Jim Fleming",
      "photoUrl": "//lh5.googleusercontent.com/-bMUyWrg0nTk/AAAAAAAAAAI/AAAAAAAAADA/bxg68Muit30/s50-c-k-no/photo.jpg",
      "userId": "110726001486577440958"
     },
     "user_tz": 420
    },
    "id": "7qjPqmKV_Qtr",
    "outputId": "0ec5b777-4ca5-422b-8304-f91f3e9a2f16"
   },
   "outputs": [
    {
     "ename": "NameError",
     "evalue": "name 'model_dir' is not defined",
     "output_type": "error",
     "traceback": [
      "\u001b[0;31m---------------------------------------------------------------------------\u001b[0m",
      "\u001b[0;31mNameError\u001b[0m                                 Traceback (most recent call last)",
      "\u001b[0;32m<ipython-input-2-25e5930d6818>\u001b[0m in \u001b[0;36m<module>\u001b[0;34m()\u001b[0m\n\u001b[0;32m----> 1\u001b[0;31m \u001b[0mmodel_tarball\u001b[0m \u001b[0;34m=\u001b[0m \u001b[0mmodel_dir\u001b[0m \u001b[0;34m+\u001b[0m \u001b[0;34m'.tar.gz'\u001b[0m\u001b[0;34m\u001b[0m\u001b[0m\n\u001b[0m\u001b[1;32m      2\u001b[0m \u001b[0;32mwith\u001b[0m \u001b[0mtarfile\u001b[0m\u001b[0;34m.\u001b[0m\u001b[0mopen\u001b[0m\u001b[0;34m(\u001b[0m\u001b[0mmodel_tarball\u001b[0m\u001b[0;34m,\u001b[0m \u001b[0;34m\"w:gz\"\u001b[0m\u001b[0;34m)\u001b[0m \u001b[0;32mas\u001b[0m \u001b[0mtar\u001b[0m\u001b[0;34m:\u001b[0m\u001b[0;34m\u001b[0m\u001b[0m\n\u001b[1;32m      3\u001b[0m     \u001b[0mtar\u001b[0m\u001b[0;34m.\u001b[0m\u001b[0madd\u001b[0m\u001b[0;34m(\u001b[0m\u001b[0mmodel_dir\u001b[0m\u001b[0;34m,\u001b[0m \u001b[0marcname\u001b[0m\u001b[0;34m=\u001b[0m\u001b[0mos\u001b[0m\u001b[0;34m.\u001b[0m\u001b[0mpath\u001b[0m\u001b[0;34m.\u001b[0m\u001b[0mbasename\u001b[0m\u001b[0;34m(\u001b[0m\u001b[0mmodel_dir\u001b[0m\u001b[0;34m)\u001b[0m\u001b[0;34m)\u001b[0m\u001b[0;34m\u001b[0m\u001b[0m\n\u001b[1;32m      4\u001b[0m \u001b[0mfiles\u001b[0m\u001b[0;34m.\u001b[0m\u001b[0mdownload\u001b[0m\u001b[0;34m(\u001b[0m\u001b[0mmodel_tarball\u001b[0m\u001b[0;34m)\u001b[0m\u001b[0;34m\u001b[0m\u001b[0m\n",
      "\u001b[0;31mNameError\u001b[0m: name 'model_dir' is not defined"
     ]
    }
   ],
   "source": [
    "model_tarball = model_dir + '.tar.gz'\n",
    "with tarfile.open(model_tarball, \"w:gz\") as tar:\n",
    "    tar.add(model_dir, arcname=os.path.basename(model_dir))\n",
    "files.download(model_tarball)"
   ]
  },
  {
   "cell_type": "code",
   "execution_count": 0,
   "metadata": {
    "colab": {
     "autoexec": {
      "startup": false,
      "wait_interval": 0
     }
    },
    "colab_type": "code",
    "id": "ENj54x_6DdlS"
   },
   "outputs": [],
   "source": []
  }
 ],
 "metadata": {
  "accelerator": "GPU",
  "colab": {
   "collapsed_sections": [],
   "default_view": {},
   "name": "Nitish-Gaddam-CIFAR-10.ipynb",
   "provenance": [
    {
     "file_id": "1jYL_Vi3OtTHcjj8HupGgLz6r-IjepS8P",
     "timestamp": 1522775566920
    }
   ],
   "toc_visible": true,
   "version": "0.3.2",
   "views": {}
  },
  "kernelspec": {
   "display_name": "Python 2",
   "language": "python",
   "name": "python2"
  },
  "language_info": {
   "codemirror_mode": {
    "name": "ipython",
    "version": 2
   },
   "file_extension": ".py",
   "mimetype": "text/x-python",
   "name": "python",
   "nbconvert_exporter": "python",
   "pygments_lexer": "ipython2",
   "version": "2.7.14"
  }
 },
 "nbformat": 4,
 "nbformat_minor": 1
}
