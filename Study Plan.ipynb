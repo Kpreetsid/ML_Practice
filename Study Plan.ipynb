{
 "cells": [
  {
   "cell_type": "markdown",
   "metadata": {},
   "source": [
    "Study Guide"
   ]
  },
  {
   "cell_type": "code",
   "execution_count": null,
   "metadata": {},
   "outputs": [],
   "source": [
    "## Interview Resources\n",
    "\n",
    "###Python\n",
    "1. A whirlwind tour of python\n",
    "\n",
    "###R\n",
    "1. R for Dummies\n",
    "\n",
    "###Datsbases\n",
    "1.SQL in 24 hours\n",
    "\n",
    "###Software\n",
    "1. Craking the coding inteview\n",
    "\n",
    "###Data Science\n",
    "1. Data SCience from scratch\n",
    "2. Python and Data Science Handbook\n",
    "3. The Data Science Handbook (Extra)\n",
    "\n",
    "###Algorithms\n",
    "1. Problem Solving with Algorithms\n",
    "\n",
    "###Statistics\n",
    "1. Statsitical Learning(Extra)\n"
   ]
  },
  {
   "cell_type": "code",
   "execution_count": null,
   "metadata": {},
   "outputs": [],
   "source": [
    "## Python\n",
    "\n",
    "### Online Courses \n",
    "1. Udemy: Automate the boring stuff - http://bit.ly/2BTGNel \n",
    "2. Udemy: Complete Python Bootcamp - http://bit.ly/2p4Eq3h \n",
    "3. Learn Python - https://www.learnpython.org/ \n",
    "4. Google's - Python Class - https://developers.google.com/edu/pyt... \n",
    "5. My Python Course - https://www.youtube.com/watch?v=Aah3T... \n",
    "\n",
    "### Books \n",
    "1. Automate the Boring Stuff With Python - http://amzn.to/2kSPOtA (free here https://automatetheboringstuff.com/) \n",
    "2. Python Crash Course -http://amzn.to/2BsorSq \n",
    "3. Effective Computation in Physics - http://amzn.to/2BJxVFC \n",
    "4. Learn Python the Hard Way - http://amzn.to/2p4TQVd \n",
    "\n",
    "### Practice \n",
    "1. Hacker Rank - https://www.hackerrank.com/ \n"
   ]
  },
  {
   "cell_type": "code",
   "execution_count": null,
   "metadata": {},
   "outputs": [],
   "source": [
    "## Learn Numpy, Pandas and Matplotlib \n",
    "\n",
    "### Books \n",
    "1. Python for Data Analysis - http://amzn.to/2kzpKEv \n",
    "2. Effective Computation in Physics - http://amzn.to/2BJxVFC \n",
    "\n",
    "### Online \n",
    "1. Udacity: Intro to Data Analysis - https://eu.udacity.com/course/intro-t... \n",
    "2. Udemy: Python for Data Science and Machine Learning Bootcamp - http://bit.ly/2DnLuuQ \n",
    "3. Udemy: Machine Learning A-Z™: Hands-On Python & R In Data Science - http://bit.ly/2BSEFDE \n",
    "\n",
    "## Learning Scikit \n",
    "\n",
    "1. Scikit Learn Website - http://scikit-learn.org/stable/tutori... \n",
    "2. Scikit Cook Book - http://amzn.to/2BXOTTi \n",
    "1. http://scikit-learn.org/stable/auto_examples/index.html\n",
    "2. http://scikit-learn.org/stable/tutorial/index.html\n",
    "\n",
    "## TensorFlow\n",
    "\n",
    "1. https://www.tensorflow.org/get_started/\n",
    "2. https://www.tensorflow.org/tutorials/\n"
   ]
  },
  {
   "cell_type": "code",
   "execution_count": null,
   "metadata": {},
   "outputs": [],
   "source": [
    "## Statistics\n",
    "\n",
    "### Learn Linear Algebra \n",
    "1. Udemy: Linear algebra 1 - http://bit.ly/2BsShWQ \n",
    "2. Udemy: Linear algebra 2 - http://bit.ly/2CRxZTh \n",
    "3. Linear Algebra for Machine Learning - https://youtu.be/ZumgfOei0Ak \n",
    "4. Linear Algebra MIT Course - https://www.youtube.com/watch?v=ZK3O4... \n",
    "\n",
    "### Learn Calculus \n",
    "1. Udemy Calculus 1 - http://bit.ly/2BhoEnr \n",
    "2. Udemy Calculus 2 - http://bit.ly/2z9urcI \n",
    "3. Udemy Calculus 3 - http://bit.ly/2kSGR3H \n",
    "4. MIT Single Variable Calculus - https://www.youtube.com/watch?v=ZK3O4... \n",
    "\n",
    "### Probability and Statistics \n",
    "\n",
    "1. Information Theory, Inference, and Learning Algorithms David McKay (Free PDF) http://www.inference.org.uk/itprnn/bo... \n",
    "2. Udemy: Workshop in Probability and Statistics - http://bit.ly/2zag4F1 \n",
    "3. Introduction to Statistical Learning - http://www-bcf.usc.edu/~gareth/ISL/IS... \n"
   ]
  },
  {
   "cell_type": "code",
   "execution_count": null,
   "metadata": {},
   "outputs": [],
   "source": [
    "### Other Resources \n",
    "1. Python Machine Learning by Packt Publishing- https://youtu.be/OHi9F0aAdpo \n",
    "2. Chris Albon - https://chrisalbon.com/#Python \n",
    "3. Jason Brownlee, Machine learning mastery - https://machinelearningmastery.com/st... \n",
    "2. Udacity Online Machine Learning Course - https://youtu.be/gq0M2bHG8wI \n",
    "\n",
    "## Not Python but .... \n",
    "Andrew Ng Machine Learning - https://www.coursera.org/learn/machin...\n",
    "    "
   ]
  },
  {
   "cell_type": "code",
   "execution_count": null,
   "metadata": {},
   "outputs": [],
   "source": [
    "## Dataets for Analysis\n",
    "\n",
    "### Beginner Level\n",
    "1.Iris Data\n",
    "2.Loan Prediction Data\n",
    "3.Bigmart Sales Data\n",
    "4.Boston Housing Data\n",
    "5.Time Series Analysis Data\n",
    "6.Wine Quality Data\n",
    "7.Turkiye Student Evaluation Data\n",
    "8.Heights and Weights Data\n",
    "  \n",
    "### Intermediate Level\n",
    "1.Black Friday Data\n",
    "2.Human Activity Recognition Data\n",
    "3.Siam Competition Data\n",
    "4.Trip History Data\n",
    "5.Million Song Data\n",
    "6.Census Income Data\n",
    "7.Movie Lens Data\n",
    "8.Twitter Classification Data\n",
    "    \n",
    "### Advanced Level\n",
    "1.Identify your Digits\n",
    "2.Urban Sound Classification\n",
    "3.Vox Celebrity Data\n",
    "4.ImageNet Data\n",
    "5.Chicago Crime Data\n",
    "6.Age Detection of Indian Actors Data\n",
    "7.Recommendation Engine Data\n",
    "8.VisualQA Data\n",
    "9.Youtube-8M\n",
    "        "
   ]
  }
 ],
 "metadata": {
  "kernelspec": {
   "display_name": "Python 3",
   "language": "python",
   "name": "python3"
  },
  "language_info": {
   "codemirror_mode": {
    "name": "ipython",
    "version": 3
   },
   "file_extension": ".py",
   "mimetype": "text/x-python",
   "name": "python",
   "nbconvert_exporter": "python",
   "pygments_lexer": "ipython3",
   "version": "3.6.4"
  }
 },
 "nbformat": 4,
 "nbformat_minor": 2
}
