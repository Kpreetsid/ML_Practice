{
 "cells": [
  {
   "cell_type": "markdown",
   "metadata": {},
   "source": [
    "Kaggle : https://www.kaggle.com/tmdb/tmdb-movie-metadata\n",
    "\n",
    "Github : https://github.com/sundeepblue/movie_rating_prediction\n",
    "\n",
    "Twitter : https://twitter.com/sundeepblue\n"
   ]
  },
  {
   "cell_type": "markdown",
   "metadata": {},
   "source": [
    "NYC Datascience blog - sundeepblue : \n",
    "https://nycdatascience.com/blog/author/sundeepblue/ (Got reference to kaggle challenge)\n",
    "\n",
    "Chuan Sun's personal blog : https://chuansun76.com/2016/09/23/how-to-tell-the-greatness-of-a-movie-before-it-is-released-in-cinema/\n",
    "\n",
    "Intresting Kaggle research paper : \n",
    "https://www.kaggle.com/tmdb/tmdb-movie-metadata/discussion/28576#latest-202281\n",
    "\n",
    "Intresting Kaggle visualisation inspiration : \n",
    "https://www.kaggle.com/tmdb/tmdb-movie-metadata/discussion/32880#latest-333248\n"
   ]
  },
  {
   "cell_type": "markdown",
   "metadata": {},
   "source": [
    "Popularity meaning : https://developers.themoviedb.org/3/getting-started/popularity\n",
    "\n",
    "Gross and Aspect ratio meaning : https://www.kaggle.com/tmdb/tmdb-movie-metadata/discussion/25273#latest-162857\n",
    "\n",
    "budget_adj, budget and revenue_adj meaning : https://www.kaggle.com/tmdb/tmdb-movie-metadata/discussion/45990#latest-265156"
   ]
  },
  {
   "cell_type": "markdown",
   "metadata": {},
   "source": [
    "|Used as reference for Data visualization : https://www.kaggle.com/luisblanche/predicting-imdb-rating \n",
    "\n",
    "|https://www.kaggle.com/soumyaansh/imdb-rating-raptors\n",
    "\n",
    "|https://www.kaggle.com/nsnilay/predicting-imdb-ratings-using-numerical-attributes\n"
   ]
  },
  {
   "cell_type": "code",
   "execution_count": null,
   "metadata": {},
   "outputs": [],
   "source": []
  },
  {
   "cell_type": "code",
   "execution_count": null,
   "metadata": {},
   "outputs": [],
   "source": []
  },
  {
   "cell_type": "code",
   "execution_count": null,
   "metadata": {},
   "outputs": [],
   "source": []
  }
 ],
 "metadata": {
  "kernelspec": {
   "display_name": "Python 3",
   "language": "python",
   "name": "python3"
  },
  "language_info": {
   "codemirror_mode": {
    "name": "ipython",
    "version": 3
   },
   "file_extension": ".py",
   "mimetype": "text/x-python",
   "name": "python",
   "nbconvert_exporter": "python",
   "pygments_lexer": "ipython3",
   "version": "3.6.4"
  }
 },
 "nbformat": 4,
 "nbformat_minor": 2
}
