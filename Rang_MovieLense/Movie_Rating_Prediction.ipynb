{
 "cells": [
  {
   "cell_type": "markdown",
   "metadata": {},
   "source": [
    "# The Movie DataBase 5000 Movie Dataset"
   ]
  },
  {
   "cell_type": "markdown",
   "metadata": {},
   "source": [
    "\n",
    "Goal 1 : Visualize data from the csv file. [Tools: Pandas, Numpy, Matplotlib] [Lang: Python]\n",
    "\n",
    "Goal 2 : Use TensorFlow to predict IMDB rating of a movie. [TensorFlow]\n",
    "\n",
    "Goal 3 : Also several other statistical models of your choice to compare results with TensorFlow models. [Scikit-Learn]\n",
    "\n",
    "Goal 4 : The goal of the exercise is to get the best movie rating prediction score. [Compare with Sun's R Prediction]"
   ]
  },
  {
   "cell_type": "markdown",
   "metadata": {},
   "source": [
    "Extra 1 : Understand how to use Beautiful Soup - Download movie details, Posters\n",
    "\n",
    "Extra 2 : Extraction from these metafiles to csv, Posters to files\n",
    "\n",
    "Extra 3 : Face Detection on Posters - Count number of faces in each poster\n"
   ]
  },
  {
   "cell_type": "code",
   "execution_count": 43,
   "metadata": {},
   "outputs": [],
   "source": [
    "import numpy as np #linear algebra\n",
    "import pandas as pd #Data Processing"
   ]
  },
  {
   "cell_type": "code",
   "execution_count": 44,
   "metadata": {},
   "outputs": [
    {
     "data": {
      "text/html": [
       "<div>\n",
       "<style scoped>\n",
       "    .dataframe tbody tr th:only-of-type {\n",
       "        vertical-align: middle;\n",
       "    }\n",
       "\n",
       "    .dataframe tbody tr th {\n",
       "        vertical-align: top;\n",
       "    }\n",
       "\n",
       "    .dataframe thead th {\n",
       "        text-align: right;\n",
       "    }\n",
       "</style>\n",
       "<table border=\"1\" class=\"dataframe\">\n",
       "  <thead>\n",
       "    <tr style=\"text-align: right;\">\n",
       "      <th></th>\n",
       "      <th>color</th>\n",
       "      <th>director_name</th>\n",
       "      <th>num_critic_for_reviews</th>\n",
       "      <th>duration</th>\n",
       "      <th>director_facebook_likes</th>\n",
       "      <th>actor_3_facebook_likes</th>\n",
       "      <th>actor_2_name</th>\n",
       "      <th>actor_1_facebook_likes</th>\n",
       "      <th>gross</th>\n",
       "      <th>genres</th>\n",
       "      <th>...</th>\n",
       "      <th>num_user_for_reviews</th>\n",
       "      <th>language</th>\n",
       "      <th>country</th>\n",
       "      <th>content_rating</th>\n",
       "      <th>budget</th>\n",
       "      <th>title_year</th>\n",
       "      <th>actor_2_facebook_likes</th>\n",
       "      <th>imdb_score</th>\n",
       "      <th>aspect_ratio</th>\n",
       "      <th>movie_facebook_likes</th>\n",
       "    </tr>\n",
       "  </thead>\n",
       "  <tbody>\n",
       "    <tr>\n",
       "      <th>0</th>\n",
       "      <td>Color</td>\n",
       "      <td>James Cameron</td>\n",
       "      <td>723.0</td>\n",
       "      <td>178.0</td>\n",
       "      <td>0.0</td>\n",
       "      <td>855.0</td>\n",
       "      <td>Joel David Moore</td>\n",
       "      <td>1000.0</td>\n",
       "      <td>760505847.0</td>\n",
       "      <td>Action|Adventure|Fantasy|Sci-Fi</td>\n",
       "      <td>...</td>\n",
       "      <td>3054.0</td>\n",
       "      <td>English</td>\n",
       "      <td>USA</td>\n",
       "      <td>PG-13</td>\n",
       "      <td>237000000.0</td>\n",
       "      <td>2009.0</td>\n",
       "      <td>936.0</td>\n",
       "      <td>7.9</td>\n",
       "      <td>1.78</td>\n",
       "      <td>33000</td>\n",
       "    </tr>\n",
       "    <tr>\n",
       "      <th>1</th>\n",
       "      <td>Color</td>\n",
       "      <td>Gore Verbinski</td>\n",
       "      <td>302.0</td>\n",
       "      <td>169.0</td>\n",
       "      <td>563.0</td>\n",
       "      <td>1000.0</td>\n",
       "      <td>Orlando Bloom</td>\n",
       "      <td>40000.0</td>\n",
       "      <td>309404152.0</td>\n",
       "      <td>Action|Adventure|Fantasy</td>\n",
       "      <td>...</td>\n",
       "      <td>1238.0</td>\n",
       "      <td>English</td>\n",
       "      <td>USA</td>\n",
       "      <td>PG-13</td>\n",
       "      <td>300000000.0</td>\n",
       "      <td>2007.0</td>\n",
       "      <td>5000.0</td>\n",
       "      <td>7.1</td>\n",
       "      <td>2.35</td>\n",
       "      <td>0</td>\n",
       "    </tr>\n",
       "    <tr>\n",
       "      <th>2</th>\n",
       "      <td>Color</td>\n",
       "      <td>Sam Mendes</td>\n",
       "      <td>602.0</td>\n",
       "      <td>148.0</td>\n",
       "      <td>0.0</td>\n",
       "      <td>161.0</td>\n",
       "      <td>Rory Kinnear</td>\n",
       "      <td>11000.0</td>\n",
       "      <td>200074175.0</td>\n",
       "      <td>Action|Adventure|Thriller</td>\n",
       "      <td>...</td>\n",
       "      <td>994.0</td>\n",
       "      <td>English</td>\n",
       "      <td>UK</td>\n",
       "      <td>PG-13</td>\n",
       "      <td>245000000.0</td>\n",
       "      <td>2015.0</td>\n",
       "      <td>393.0</td>\n",
       "      <td>6.8</td>\n",
       "      <td>2.35</td>\n",
       "      <td>85000</td>\n",
       "    </tr>\n",
       "    <tr>\n",
       "      <th>3</th>\n",
       "      <td>Color</td>\n",
       "      <td>Christopher Nolan</td>\n",
       "      <td>813.0</td>\n",
       "      <td>164.0</td>\n",
       "      <td>22000.0</td>\n",
       "      <td>23000.0</td>\n",
       "      <td>Christian Bale</td>\n",
       "      <td>27000.0</td>\n",
       "      <td>448130642.0</td>\n",
       "      <td>Action|Thriller</td>\n",
       "      <td>...</td>\n",
       "      <td>2701.0</td>\n",
       "      <td>English</td>\n",
       "      <td>USA</td>\n",
       "      <td>PG-13</td>\n",
       "      <td>250000000.0</td>\n",
       "      <td>2012.0</td>\n",
       "      <td>23000.0</td>\n",
       "      <td>8.5</td>\n",
       "      <td>2.35</td>\n",
       "      <td>164000</td>\n",
       "    </tr>\n",
       "    <tr>\n",
       "      <th>4</th>\n",
       "      <td>NaN</td>\n",
       "      <td>Doug Walker</td>\n",
       "      <td>NaN</td>\n",
       "      <td>NaN</td>\n",
       "      <td>131.0</td>\n",
       "      <td>NaN</td>\n",
       "      <td>Rob Walker</td>\n",
       "      <td>131.0</td>\n",
       "      <td>NaN</td>\n",
       "      <td>Documentary</td>\n",
       "      <td>...</td>\n",
       "      <td>NaN</td>\n",
       "      <td>NaN</td>\n",
       "      <td>NaN</td>\n",
       "      <td>NaN</td>\n",
       "      <td>NaN</td>\n",
       "      <td>NaN</td>\n",
       "      <td>12.0</td>\n",
       "      <td>7.1</td>\n",
       "      <td>NaN</td>\n",
       "      <td>0</td>\n",
       "    </tr>\n",
       "  </tbody>\n",
       "</table>\n",
       "<p>5 rows × 28 columns</p>\n",
       "</div>"
      ],
      "text/plain": [
       "   color      director_name  num_critic_for_reviews  duration  \\\n",
       "0  Color      James Cameron                   723.0     178.0   \n",
       "1  Color     Gore Verbinski                   302.0     169.0   \n",
       "2  Color         Sam Mendes                   602.0     148.0   \n",
       "3  Color  Christopher Nolan                   813.0     164.0   \n",
       "4    NaN        Doug Walker                     NaN       NaN   \n",
       "\n",
       "   director_facebook_likes  actor_3_facebook_likes      actor_2_name  \\\n",
       "0                      0.0                   855.0  Joel David Moore   \n",
       "1                    563.0                  1000.0     Orlando Bloom   \n",
       "2                      0.0                   161.0      Rory Kinnear   \n",
       "3                  22000.0                 23000.0    Christian Bale   \n",
       "4                    131.0                     NaN        Rob Walker   \n",
       "\n",
       "   actor_1_facebook_likes        gross                           genres  \\\n",
       "0                  1000.0  760505847.0  Action|Adventure|Fantasy|Sci-Fi   \n",
       "1                 40000.0  309404152.0         Action|Adventure|Fantasy   \n",
       "2                 11000.0  200074175.0        Action|Adventure|Thriller   \n",
       "3                 27000.0  448130642.0                  Action|Thriller   \n",
       "4                   131.0          NaN                      Documentary   \n",
       "\n",
       "          ...          num_user_for_reviews language  country  content_rating  \\\n",
       "0         ...                        3054.0  English      USA           PG-13   \n",
       "1         ...                        1238.0  English      USA           PG-13   \n",
       "2         ...                         994.0  English       UK           PG-13   \n",
       "3         ...                        2701.0  English      USA           PG-13   \n",
       "4         ...                           NaN      NaN      NaN             NaN   \n",
       "\n",
       "        budget  title_year actor_2_facebook_likes imdb_score  aspect_ratio  \\\n",
       "0  237000000.0      2009.0                  936.0        7.9          1.78   \n",
       "1  300000000.0      2007.0                 5000.0        7.1          2.35   \n",
       "2  245000000.0      2015.0                  393.0        6.8          2.35   \n",
       "3  250000000.0      2012.0                23000.0        8.5          2.35   \n",
       "4          NaN         NaN                   12.0        7.1           NaN   \n",
       "\n",
       "  movie_facebook_likes  \n",
       "0                33000  \n",
       "1                    0  \n",
       "2                85000  \n",
       "3               164000  \n",
       "4                    0  \n",
       "\n",
       "[5 rows x 28 columns]"
      ]
     },
     "execution_count": 44,
     "metadata": {},
     "output_type": "execute_result"
    }
   ],
   "source": [
    "movie_data = pd.read_csv(\"/Users/gaddamnitish/Desktop/Rang/movie_metadata.csv\", encoding='utf-8')\n",
    "movie_data.head() #Print out the first 5 values"
   ]
  },
  {
   "cell_type": "code",
   "execution_count": 45,
   "metadata": {
    "scrolled": true
   },
   "outputs": [
    {
     "name": "stdout",
     "output_type": "stream",
     "text": [
      "['color' 'director_name' 'num_critic_for_reviews' 'duration'\n",
      " 'director_facebook_likes' 'actor_3_facebook_likes' 'actor_2_name'\n",
      " 'actor_1_facebook_likes' 'gross' 'genres' 'actor_1_name' 'movie_title'\n",
      " 'num_voted_users' 'cast_total_facebook_likes' 'actor_3_name'\n",
      " 'facenumber_in_poster' 'plot_keywords' 'movie_imdb_link'\n",
      " 'num_user_for_reviews' 'language' 'country' 'content_rating' 'budget'\n",
      " 'title_year' 'actor_2_facebook_likes' 'imdb_score' 'aspect_ratio'\n",
      " 'movie_facebook_likes']\n"
     ]
    }
   ],
   "source": [
    "print(movie_data.columns.values) #print out all the column names"
   ]
  },
  {
   "cell_type": "code",
   "execution_count": 46,
   "metadata": {},
   "outputs": [
    {
     "name": "stdout",
     "output_type": "stream",
     "text": [
      "['color' 'director_name' 'num_critic_for_reviews' 'duration'\n",
      " 'director_facebook_likes' 'actor_3_facebook_likes' 'actor_2_name'\n",
      " 'actor_1_facebook_likes' 'gross' 'genres' 'actor_1_name' 'movie_title'\n",
      " 'num_voted_users' 'cast_total_facebook_likes' 'actor_3_name'\n",
      " 'facenumber_in_poster' 'plot_keywords' 'movie_imdb_link'\n",
      " 'num_user_for_reviews' 'language' 'country' 'content_rating' 'budget'\n",
      " 'title_year' 'actor_2_facebook_likes' 'imdb_score' 'aspect_ratio'\n",
      " 'movie_facebook_likes']\n"
     ]
    }
   ],
   "source": [
    "#movie_data.drop(['movie_imdb_link', 'imdb_score', 'aspect_ratio'], 1, inplace=True) #Don't drop these values if u wanna use them in your analysis \n",
    "print(movie_data.columns.values) #These are the new file columns"
   ]
  },
  {
   "cell_type": "code",
   "execution_count": 47,
   "metadata": {},
   "outputs": [
    {
     "data": {
      "text/html": [
       "<div>\n",
       "<style scoped>\n",
       "    .dataframe tbody tr th:only-of-type {\n",
       "        vertical-align: middle;\n",
       "    }\n",
       "\n",
       "    .dataframe tbody tr th {\n",
       "        vertical-align: top;\n",
       "    }\n",
       "\n",
       "    .dataframe thead th {\n",
       "        text-align: right;\n",
       "    }\n",
       "</style>\n",
       "<table border=\"1\" class=\"dataframe\">\n",
       "  <thead>\n",
       "    <tr style=\"text-align: right;\">\n",
       "      <th></th>\n",
       "      <th>movie_title</th>\n",
       "      <th>director_name</th>\n",
       "      <th>genres</th>\n",
       "      <th>language</th>\n",
       "    </tr>\n",
       "  </thead>\n",
       "  <tbody>\n",
       "    <tr>\n",
       "      <th>0</th>\n",
       "      <td>Avatar</td>\n",
       "      <td>James Cameron</td>\n",
       "      <td>Action|Adventure|Fantasy|Sci-Fi</td>\n",
       "      <td>English</td>\n",
       "    </tr>\n",
       "    <tr>\n",
       "      <th>1</th>\n",
       "      <td>Pirates of the Caribbean: At World's End</td>\n",
       "      <td>Gore Verbinski</td>\n",
       "      <td>Action|Adventure|Fantasy</td>\n",
       "      <td>English</td>\n",
       "    </tr>\n",
       "    <tr>\n",
       "      <th>2</th>\n",
       "      <td>Spectre</td>\n",
       "      <td>Sam Mendes</td>\n",
       "      <td>Action|Adventure|Thriller</td>\n",
       "      <td>English</td>\n",
       "    </tr>\n",
       "    <tr>\n",
       "      <th>3</th>\n",
       "      <td>The Dark Knight Rises</td>\n",
       "      <td>Christopher Nolan</td>\n",
       "      <td>Action|Thriller</td>\n",
       "      <td>English</td>\n",
       "    </tr>\n",
       "    <tr>\n",
       "      <th>4</th>\n",
       "      <td>Star Wars: Episode VII - The Force Awakens    ...</td>\n",
       "      <td>Doug Walker</td>\n",
       "      <td>Documentary</td>\n",
       "      <td>NaN</td>\n",
       "    </tr>\n",
       "  </tbody>\n",
       "</table>\n",
       "</div>"
      ],
      "text/plain": [
       "                                         movie_title      director_name  \\\n",
       "0                                            Avatar       James Cameron   \n",
       "1          Pirates of the Caribbean: At World's End      Gore Verbinski   \n",
       "2                                           Spectre          Sam Mendes   \n",
       "3                             The Dark Knight Rises   Christopher Nolan   \n",
       "4  Star Wars: Episode VII - The Force Awakens    ...        Doug Walker   \n",
       "\n",
       "                            genres language  \n",
       "0  Action|Adventure|Fantasy|Sci-Fi  English  \n",
       "1         Action|Adventure|Fantasy  English  \n",
       "2        Action|Adventure|Thriller  English  \n",
       "3                  Action|Thriller  English  \n",
       "4                      Documentary      NaN  "
      ]
     },
     "execution_count": 47,
     "metadata": {},
     "output_type": "execute_result"
    }
   ],
   "source": [
    "film_cols = ['movie_title', 'director_name', 'genres', 'language']\n",
    "movie_data[film_cols].head() #Pulling out only the movie columns I like"
   ]
  },
  {
   "cell_type": "code",
   "execution_count": 48,
   "metadata": {
    "scrolled": true
   },
   "outputs": [
    {
     "data": {
      "text/html": [
       "<div>\n",
       "<style scoped>\n",
       "    .dataframe tbody tr th:only-of-type {\n",
       "        vertical-align: middle;\n",
       "    }\n",
       "\n",
       "    .dataframe tbody tr th {\n",
       "        vertical-align: top;\n",
       "    }\n",
       "\n",
       "    .dataframe thead th {\n",
       "        text-align: right;\n",
       "    }\n",
       "</style>\n",
       "<table border=\"1\" class=\"dataframe\">\n",
       "  <thead>\n",
       "    <tr style=\"text-align: right;\">\n",
       "      <th></th>\n",
       "      <th>color</th>\n",
       "      <th>director_name</th>\n",
       "      <th>num_critic_for_reviews</th>\n",
       "      <th>duration</th>\n",
       "      <th>director_facebook_likes</th>\n",
       "      <th>actor_3_facebook_likes</th>\n",
       "      <th>actor_2_name</th>\n",
       "      <th>actor_1_facebook_likes</th>\n",
       "      <th>gross</th>\n",
       "      <th>genres</th>\n",
       "      <th>...</th>\n",
       "      <th>num_user_for_reviews</th>\n",
       "      <th>language</th>\n",
       "      <th>country</th>\n",
       "      <th>content_rating</th>\n",
       "      <th>budget</th>\n",
       "      <th>title_year</th>\n",
       "      <th>actor_2_facebook_likes</th>\n",
       "      <th>imdb_score</th>\n",
       "      <th>aspect_ratio</th>\n",
       "      <th>movie_facebook_likes</th>\n",
       "    </tr>\n",
       "  </thead>\n",
       "  <tbody>\n",
       "  </tbody>\n",
       "</table>\n",
       "<p>0 rows × 28 columns</p>\n",
       "</div>"
      ],
      "text/plain": [
       "Empty DataFrame\n",
       "Columns: [color, director_name, num_critic_for_reviews, duration, director_facebook_likes, actor_3_facebook_likes, actor_2_name, actor_1_facebook_likes, gross, genres, actor_1_name, movie_title, num_voted_users, cast_total_facebook_likes, actor_3_name, facenumber_in_poster, plot_keywords, movie_imdb_link, num_user_for_reviews, language, country, content_rating, budget, title_year, actor_2_facebook_likes, imdb_score, aspect_ratio, movie_facebook_likes]\n",
       "Index: []\n",
       "\n",
       "[0 rows x 28 columns]"
      ]
     },
     "execution_count": 48,
     "metadata": {},
     "output_type": "execute_result"
    }
   ],
   "source": [
    "#movie_data['movie_title'].where(movie_data['movie_title'] == 'Inferno')\n",
    "movie_data[movie_data['movie_title'] == 'Inferno']  # why isn't this working?? It's returing an empty list  "
   ]
  },
  {
   "cell_type": "code",
   "execution_count": 49,
   "metadata": {
    "scrolled": true
   },
   "outputs": [
    {
     "name": "stdout",
     "output_type": "stream",
     "text": [
      "numeric_features\n",
      "['num_critic_for_reviews', 'duration', 'director_facebook_likes', 'actor_3_facebook_likes', 'actor_1_facebook_likes', 'gross', 'num_voted_users', 'cast_total_facebook_likes', 'facenumber_in_poster', 'num_user_for_reviews', 'budget', 'title_year', 'actor_2_facebook_likes', 'imdb_score', 'aspect_ratio', 'movie_facebook_likes']\n",
      "------------------------------------------------------------------------------------------------------------\n",
      "text_features\n",
      "['color', 'director_name', 'num_critic_for_reviews', 'duration', 'director_facebook_likes', 'actor_3_facebook_likes', 'actor_2_name', 'actor_1_facebook_likes', 'gross', 'genres', 'actor_1_name', 'movie_title', 'num_voted_users', 'cast_total_facebook_likes', 'actor_3_name', 'facenumber_in_poster', 'plot_keywords', 'movie_imdb_link', 'num_user_for_reviews', 'language', 'country', 'content_rating', 'budget', 'title_year', 'actor_2_facebook_likes', 'imdb_score', 'aspect_ratio', 'movie_facebook_likes']\n",
      "------------------------------------------------------------------------------------------------------------\n",
      "string_features\n",
      "['movie_title', 'plot_keywords']\n",
      "------------------------------------------------------------------------------------------------------------\n",
      "categorical_features\n",
      "['color', 'director_name', 'num_critic_for_reviews', 'duration', 'director_facebook_likes', 'actor_3_facebook_likes', 'actor_2_name', 'actor_1_facebook_likes', 'gross', 'genres', 'actor_1_name', 'num_voted_users', 'cast_total_facebook_likes', 'actor_3_name', 'facenumber_in_poster', 'movie_imdb_link', 'num_user_for_reviews', 'language', 'country', 'content_rating', 'budget', 'title_year', 'actor_2_facebook_likes', 'imdb_score', 'aspect_ratio', 'movie_facebook_likes', 'title_year']\n"
     ]
    }
   ],
   "source": [
    "print('numeric_features')\n",
    "#numeric_features=mov._get_numeric_data().columns.values.tolist()\n",
    "numeric_features_1 = movie_data._get_numeric_data()\n",
    "#numeric_features = numeric_features_1.values.tolist()\n",
    "numeric_features = numeric_features_1.columns.values.tolist()\n",
    "print(numeric_features)\n",
    "print('------------------------------------------------------------------------------------------------------------')\n",
    "print('text_features')\n",
    "text_features=movie_data.columns.values.tolist()\n",
    "#text_features = movie_data.values.tolist()\n",
    "#text_features=[i for i in text_features if i not in numeric_features]\n",
    "print(text_features)\n",
    "print('------------------------------------------------------------------------------------------------------------')\n",
    "print('string_features')\n",
    "string_features=[\"movie_title\", \"plot_keywords\"]\n",
    "print(string_features)\n",
    "print('------------------------------------------------------------------------------------------------------------')\n",
    "print('categorical_features')\n",
    "categorical_features=[i for i in text_features if i not in string_features]\n",
    "numeric_features.remove(\"title_year\") \n",
    "categorical_features.append(\"title_year\")\n",
    "print(categorical_features)"
   ]
  },
  {
   "cell_type": "code",
   "execution_count": 50,
   "metadata": {
    "scrolled": false
   },
   "outputs": [
    {
     "data": {
      "image/png": "[encoded data removed]",
      "text/plain": [
       "<matplotlib.figure.Figure at 0x10f3545c0>"
      ]
     },
     "metadata": {},
     "output_type": "display_data"
    }
   ],
   "source": [
    "%matplotlib inline\n",
    "import matplotlib.pyplot as plt\n",
    "labels = movie_data['imdb_score']\n",
    "#font = {'fontname' = 'Arial', 'size' = 14}\n",
    "#title_font = {'weight' = 'Bold', 'size' = 18}\n",
    "#plt.rc('font',family='Times New Roman')\n",
    "#font = {'fontname':'Arial', 'size':'14'}\n",
    "#title_font = { 'weight' : 'bold','size':'12'}\n",
    "plt.hist(labels, bins = 30)\n",
    "plt.title('Distribution of IMDB ratings')\n",
    "plt.show()"
   ]
  },
  {
   "cell_type": "code",
   "execution_count": 51,
   "metadata": {},
   "outputs": [
    {
     "name": "stdout",
     "output_type": "stream",
     "text": [
      "color                         19\n",
      "director_name                104\n",
      "num_critic_for_reviews        50\n",
      "duration                      15\n",
      "director_facebook_likes      104\n",
      "actor_3_facebook_likes        23\n",
      "actor_2_name                  13\n",
      "actor_1_facebook_likes         7\n",
      "gross                        884\n",
      "genres                         0\n",
      "actor_1_name                   7\n",
      "movie_title                    0\n",
      "num_voted_users                0\n",
      "cast_total_facebook_likes      0\n",
      "actor_3_name                  23\n",
      "facenumber_in_poster          13\n",
      "plot_keywords                153\n",
      "movie_imdb_link                0\n",
      "num_user_for_reviews          21\n",
      "language                      12\n",
      "country                        5\n",
      "content_rating               303\n",
      "budget                       492\n",
      "title_year                   108\n",
      "actor_2_facebook_likes        13\n",
      "imdb_score                     0\n",
      "aspect_ratio                 329\n",
      "movie_facebook_likes           0\n",
      "dtype: int64\n"
     ]
    }
   ],
   "source": [
    "print(movie_data.isnull().sum()) #Checking number of null values in every column before imputation\n",
    "#movie_data.describe()"
   ]
  },
  {
   "cell_type": "code",
   "execution_count": 52,
   "metadata": {},
   "outputs": [
    {
     "data": {
      "text/plain": [
       "1902    656730\n",
       "1223    303717\n",
       "4704    283939\n",
       "4592    263584\n",
       "4409    261818\n",
       "4045    170118\n",
       "2939    140268\n",
       "2269    137712\n",
       "2385    120797\n",
       "74      108016\n",
       "Name: cast_total_facebook_likes, dtype: int64"
      ]
     },
     "execution_count": 52,
     "metadata": {},
     "output_type": "execute_result"
    }
   ],
   "source": [
    "movie_data['imdb_score'] = movie_data['imdb_score'].round()\n",
    "movie_data['cast_total_facebook_likes'].sort_values(ascending=False).head(10)\n"
   ]
  },
  {
   "cell_type": "code",
   "execution_count": 53,
   "metadata": {},
   "outputs": [
    {
     "data": {
      "text/plain": [
       "<matplotlib.figure.Figure at 0x1a17755550>"
      ]
     },
     "metadata": {},
     "output_type": "display_data"
    },
    {
     "data": {
      "image/png": "[encoded data removed]",
      "text/plain": [
       "<matplotlib.figure.Figure at 0x1a17755518>"
      ]
     },
     "metadata": {},
     "output_type": "display_data"
    }
   ],
   "source": [
    "import seaborn as sns\n",
    "#fig = plt.figure(figsize=(13, 5))\n",
    "#t = np.arange(0.01, 20.0, 0.01)\n",
    "#g = sns.lmplot('cast_total_facebook_likes', 'imdb_score',data=df,fit_reg=False,hue='content_rating',palette='muted',x_jitter=2.0,y_jitter=2.0,size=10)\n",
    "#g.set(xlim=(0, None))\n",
    "#g.set(ylim=(0, None))\n",
    "#x_values = [10000,30000, 50000, 70000, 90000, 110000, 130000, 150000, 170000, 190000]\n",
    "#plt.xticks(x_values)\n",
    "#plt.title('Impact of Facebook likes on IMDb score')\n",
    "#plt.ylabel('IMDB Rating')\n",
    "#plt.xlabel('Total Facebook Likes')\n",
    "#plt.show()\n",
    "\n",
    "fig = plt.figure(figsize= (13, 5))\n",
    "t = np.arange(0.01, 20.0, 0.01)\n",
    "#g = sns.lmplot()\n",
    "g = sns.lmplot(x = 'cast_total_facebook_likes', y ='imdb_score', data = movie_data, fit_reg=False, hue='content_rating', palette='muted', x_jitter=2.0, y_jitter=2.0, size=10)\n",
    "g.set(xlim=(0, None))\n",
    "g.set(ylim = (0, None))\n",
    "x_values = [3, 6, 9, 12, 15, 18, 21, 24, 27, 30, 33, 36]\n",
    "plt.xticks(x_values)\n",
    "plt.title('Impact of Facebook likes on IMDb score')\n",
    "plt.ylabel('IMDB Rating')\n",
    "plt.xlabel('Total Facebook Likes')\n",
    "plt.show()           "
   ]
  },
  {
   "cell_type": "code",
   "execution_count": 54,
   "metadata": {},
   "outputs": [
    {
     "data": {
      "text/html": [
       "<div>\n",
       "<style scoped>\n",
       "    .dataframe tbody tr th:only-of-type {\n",
       "        vertical-align: middle;\n",
       "    }\n",
       "\n",
       "    .dataframe tbody tr th {\n",
       "        vertical-align: top;\n",
       "    }\n",
       "\n",
       "    .dataframe thead th {\n",
       "        text-align: right;\n",
       "    }\n",
       "</style>\n",
       "<table border=\"1\" class=\"dataframe\">\n",
       "  <thead>\n",
       "    <tr style=\"text-align: right;\">\n",
       "      <th></th>\n",
       "      <th>num_critic_for_reviews</th>\n",
       "      <th>duration</th>\n",
       "      <th>director_facebook_likes</th>\n",
       "      <th>actor_3_facebook_likes</th>\n",
       "      <th>actor_1_facebook_likes</th>\n",
       "      <th>gross</th>\n",
       "      <th>num_voted_users</th>\n",
       "      <th>cast_total_facebook_likes</th>\n",
       "      <th>facenumber_in_poster</th>\n",
       "      <th>num_user_for_reviews</th>\n",
       "      <th>budget</th>\n",
       "      <th>actor_2_facebook_likes</th>\n",
       "      <th>imdb_score</th>\n",
       "      <th>aspect_ratio</th>\n",
       "      <th>movie_facebook_likes</th>\n",
       "    </tr>\n",
       "  </thead>\n",
       "  <tbody>\n",
       "    <tr>\n",
       "      <th>0</th>\n",
       "      <td>4.797503</td>\n",
       "      <td>2.814318</td>\n",
       "      <td>-0.241367</td>\n",
       "      <td>0.125431</td>\n",
       "      <td>-0.369902</td>\n",
       "      <td>11.160073</td>\n",
       "      <td>5.795674</td>\n",
       "      <td>-0.267871</td>\n",
       "      <td>-0.679747</td>\n",
       "      <td>7.369256</td>\n",
       "      <td>1.016877</td>\n",
       "      <td>-0.176884</td>\n",
       "      <td>1.336845</td>\n",
       "      <td>-0.335116</td>\n",
       "      <td>1.318632</td>\n",
       "    </tr>\n",
       "    <tr>\n",
       "      <th>1</th>\n",
       "      <td>1.340129</td>\n",
       "      <td>2.456819</td>\n",
       "      <td>-0.039256</td>\n",
       "      <td>0.212714</td>\n",
       "      <td>2.228319</td>\n",
       "      <td>4.168026</td>\n",
       "      <td>2.798784</td>\n",
       "      <td>2.128121</td>\n",
       "      <td>-0.679747</td>\n",
       "      <td>2.559467</td>\n",
       "      <td>1.338521</td>\n",
       "      <td>0.829814</td>\n",
       "      <td>0.480211</td>\n",
       "      <td>0.090444</td>\n",
       "      <td>-0.389572</td>\n",
       "    </tr>\n",
       "    <tr>\n",
       "      <th>2</th>\n",
       "      <td>3.803816</td>\n",
       "      <td>1.622653</td>\n",
       "      <td>-0.241367</td>\n",
       "      <td>-0.292328</td>\n",
       "      <td>0.296309</td>\n",
       "      <td>2.473418</td>\n",
       "      <td>1.388010</td>\n",
       "      <td>0.110172</td>\n",
       "      <td>-0.182725</td>\n",
       "      <td>1.913218</td>\n",
       "      <td>1.057721</td>\n",
       "      <td>-0.311391</td>\n",
       "      <td>0.480211</td>\n",
       "      <td>0.090444</td>\n",
       "      <td>4.010348</td>\n",
       "    </tr>\n",
       "    <tr>\n",
       "      <th>3</th>\n",
       "      <td>5.536609</td>\n",
       "      <td>2.258208</td>\n",
       "      <td>7.656405</td>\n",
       "      <td>13.455777</td>\n",
       "      <td>1.362246</td>\n",
       "      <td>6.318278</td>\n",
       "      <td>7.659834</td>\n",
       "      <td>5.344122</td>\n",
       "      <td>-0.679747</td>\n",
       "      <td>6.434314</td>\n",
       "      <td>1.083248</td>\n",
       "      <td>5.288616</td>\n",
       "      <td>1.336845</td>\n",
       "      <td>0.090444</td>\n",
       "      <td>8.099687</td>\n",
       "    </tr>\n",
       "    <tr>\n",
       "      <th>4</th>\n",
       "      <td>-1.131770</td>\n",
       "      <td>-0.681231</td>\n",
       "      <td>-0.194340</td>\n",
       "      <td>0.212714</td>\n",
       "      <td>-0.427796</td>\n",
       "      <td>-0.581219</td>\n",
       "      <td>-0.604169</td>\n",
       "      <td>-0.526157</td>\n",
       "      <td>-0.679747</td>\n",
       "      <td>-0.716805</td>\n",
       "      <td>-0.091008</td>\n",
       "      <td>-0.405769</td>\n",
       "      <td>0.480211</td>\n",
       "      <td>0.090444</td>\n",
       "      <td>-0.389572</td>\n",
       "    </tr>\n",
       "  </tbody>\n",
       "</table>\n",
       "</div>"
      ],
      "text/plain": [
       "   num_critic_for_reviews  duration  director_facebook_likes  \\\n",
       "0                4.797503  2.814318                -0.241367   \n",
       "1                1.340129  2.456819                -0.039256   \n",
       "2                3.803816  1.622653                -0.241367   \n",
       "3                5.536609  2.258208                 7.656405   \n",
       "4               -1.131770 -0.681231                -0.194340   \n",
       "\n",
       "   actor_3_facebook_likes  actor_1_facebook_likes      gross  num_voted_users  \\\n",
       "0                0.125431               -0.369902  11.160073         5.795674   \n",
       "1                0.212714                2.228319   4.168026         2.798784   \n",
       "2               -0.292328                0.296309   2.473418         1.388010   \n",
       "3               13.455777                1.362246   6.318278         7.659834   \n",
       "4                0.212714               -0.427796  -0.581219        -0.604169   \n",
       "\n",
       "   cast_total_facebook_likes  facenumber_in_poster  num_user_for_reviews  \\\n",
       "0                  -0.267871             -0.679747              7.369256   \n",
       "1                   2.128121             -0.679747              2.559467   \n",
       "2                   0.110172             -0.182725              1.913218   \n",
       "3                   5.344122             -0.679747              6.434314   \n",
       "4                  -0.526157             -0.679747             -0.716805   \n",
       "\n",
       "     budget  actor_2_facebook_likes  imdb_score  aspect_ratio  \\\n",
       "0  1.016877               -0.176884    1.336845     -0.335116   \n",
       "1  1.338521                0.829814    0.480211      0.090444   \n",
       "2  1.057721               -0.311391    0.480211      0.090444   \n",
       "3  1.083248                5.288616    1.336845      0.090444   \n",
       "4 -0.091008               -0.405769    0.480211      0.090444   \n",
       "\n",
       "   movie_facebook_likes  \n",
       "0              1.318632  \n",
       "1             -0.389572  \n",
       "2              4.010348  \n",
       "3              8.099687  \n",
       "4             -0.389572  "
      ]
     },
     "execution_count": 54,
     "metadata": {},
     "output_type": "execute_result"
    }
   ],
   "source": [
    "#Numeric features : imputation and scaling\n",
    "from sklearn.preprocessing import Imputer\n",
    "from sklearn.preprocessing import StandardScaler\n",
    "\n",
    "imp = Imputer(missing_values='NaN', strategy='most_frequent', axis=0)\n",
    "movie_data[numeric_features] = imp.fit_transform(movie_data[numeric_features])\n",
    "\n",
    "# we use standard scaler to keep as much variance as possible (compared to minmax)\n",
    "scl = StandardScaler()\n",
    "movie_data[numeric_features] = scl.fit_transform(movie_data[numeric_features])\n",
    "movie_data[numeric_features].head()"
   ]
  },
  {
   "cell_type": "code",
   "execution_count": 55,
   "metadata": {},
   "outputs": [
    {
     "name": "stdout",
     "output_type": "stream",
     "text": [
      "[('imdb_score', (1.0, 0.0)), ('num_voted_users', (0.39714790821624651, 3.5969263687836996e-190)), ('num_critic_for_reviews', (0.29403942971462216, 3.9460230122521006e-101)), ('num_user_for_reviews', (0.28567588463703453, 2.5287001104683674e-95)), ('duration', (0.2546470160257871, 1.8008706429246286e-75)), ('movie_facebook_likes', (0.23962342890752247, 8.6999028812697546e-67)), ('gross', (0.17485030172710855, 6.5624012891452767e-36)), ('director_facebook_likes', (0.15448474459549114, 2.6144755163165799e-28)), ('cast_total_facebook_likes', (0.082355196206818679, 4.7164442539180973e-09)), ('actor_2_facebook_likes', (0.078797262074382632, 2.1062284420749718e-08)), ('actor_1_facebook_likes', (0.073454011909033348, 1.7697104534320087e-07)), ('aspect_ratio', (0.056917633407002288, 5.249533093813435e-05)), ('actor_3_facebook_likes', (0.049707029473017271, 0.00041366803793142461)), ('budget', (0.027103133123300677, 0.054281855665897952)), ('facenumber_in_poster', (-0.055442210012136249, 8.1742990582205758e-05))]\n"
     ]
    }
   ],
   "source": [
    "#Correlation of numeric features with IMDB score\n",
    "import operator\n",
    "from scipy.stats import pearsonr\n",
    "correl = {}\n",
    "for f in numeric_features:\n",
    "    correl[f] = pearsonr(movie_data[f], labels)\n",
    "sorted_cor = sorted(correl.items(), key=operator.itemgetter(1), reverse = True)\n",
    "print(sorted_cor)"
   ]
  },
  {
   "cell_type": "code",
   "execution_count": 56,
   "metadata": {},
   "outputs": [
    {
     "data": {
      "image/png": "[encoded data removed]",
      "text/plain": [
       "<matplotlib.figure.Figure at 0x10f3897b8>"
      ]
     },
     "metadata": {},
     "output_type": "display_data"
    }
   ],
   "source": [
    "#Correlation between Numeric Features\n",
    "import seaborn as sns #Seaborn builds on top of Matplotlib and introduces additional plot types.\n",
    "#sns.set_context(\"notebook\", font_scale=1.1)\n",
    "#sns.set_style(\"ticks\")\n",
    "\n",
    "def corrmap(features, title):\n",
    "    sns.set(context = 'paper', font = 'monospace')\n",
    "    corrmatrix = movie_data[features].corr()\n",
    "    f, ax = plt.subplots(figsize= (12, 9))\n",
    "    plt.title(title) #Draw the heat map using SeaBorn.\n",
    "    sns.heatmap(corrmatrix, vmax=.8, square = True)\n",
    "corrmap(numeric_features, 'Correlation matrix for Numeric Features')\n",
    "#Shift+Tab gives you additional options"
   ]
  },
  {
   "cell_type": "markdown",
   "metadata": {},
   "source": [
    "You can observe that 'num_voted_users' and 'num_user_for_reviews' have a strong correlation. This is beacause it is the sum of othwer sucess factors. So we just remove it and make 2 categories : actor_1_facebook_likes and other_actors_facebook_likes.\n",
    "\n",
    "More over there is a big correlation between the num_voted users and the number of reviews from both critics and users, the gross and the movie_facebook_likes. So we take the mean of those as a new variable called movie_success"
   ]
  },
  {
   "cell_type": "code",
   "execution_count": 57,
   "metadata": {},
   "outputs": [
    {
     "data": {
      "image/png": "[encoded data removed]",
      "text/plain": [
       "<matplotlib.figure.Figure at 0x1a17e5bbe0>"
      ]
     },
     "metadata": {},
     "output_type": "display_data"
    }
   ],
   "source": [
    "movie_data['movie_sucess'] = (movie_data['num_critic_for_reviews']+ movie_data['num_voted_users']+\n",
    "                              movie_data['num_user_for_reviews']+movie_data['gross']+movie_data['movie_facebook_likes'])/6\n",
    "movie_data['other_actor_facebook_likes'] = movie_data['actor_2_facebook_likes'] + movie_data['actor_3_facebook_likes']\n",
    "\n",
    "num_features_2 = [x for x in numeric_features if x not in [\"cast_total_facebook_likes\", 'num_critic_for_reviews', \n",
    "                                                           \"num_voted_users\", \"num_user_for_reviews\", \"gross\",\n",
    "                                                           \"movie_facebook_likes\", \"actor_2_facebook_likes\", \n",
    "                                                           \"actor_3_facebook_likes\"]]\n",
    "num_features_2.extend(['movie_sucess', 'other_actor_facebook_likes'])\n",
    "\n",
    "corrmap(num_features_2, \"Correlation Matrix for Numeric Features\")"
   ]
  },
  {
   "cell_type": "code",
   "execution_count": 58,
   "metadata": {},
   "outputs": [
    {
     "name": "stdout",
     "output_type": "stream",
     "text": [
      "[('imdb_score', (1.0, 0.0)), ('movie_sucess', (0.34139349781437195, 7.3963435923134018e-138)), ('duration', (0.2546470160257871, 1.8008706429246286e-75)), ('director_facebook_likes', (0.15448474459549114, 2.6144755163165799e-28)), ('actor_1_facebook_likes', (0.073454011909033348, 1.7697104534320087e-07)), ('other_actor_facebook_likes', (0.072769138019995627, 2.301039454447703e-07)), ('aspect_ratio', (0.056917633407002288, 5.249533093813435e-05)), ('budget', (0.027103133123300677, 0.054281855665897952)), ('facenumber_in_poster', (-0.055442210012136249, 8.1742990582205758e-05))]\n"
     ]
    }
   ],
   "source": [
    "import operator\n",
    "from scipy.stats import pearsonr\n",
    "correl = {}\n",
    "for f in num_features_2:\n",
    "    correl[f] = pearsonr(movie_data[f], labels)\n",
    "sorted_cor = sorted(correl.items(), key=operator.itemgetter(1), reverse = True)\n",
    "print(sorted_cor)"
   ]
  },
  {
   "cell_type": "code",
   "execution_count": 59,
   "metadata": {},
   "outputs": [
    {
     "name": "stdout",
     "output_type": "stream",
     "text": [
      "{'bootstrap': True, 'criterion': 'mse', 'max_depth': None, 'max_features': 'sqrt', 'max_leaf_nodes': None, 'min_impurity_decrease': 0.0, 'min_impurity_split': None, 'min_samples_leaf': 1, 'min_samples_split': 2, 'min_weight_fraction_leaf': 0.0, 'n_estimators': 10, 'n_jobs': 1, 'oob_score': False, 'random_state': None, 'verbose': 0, 'warm_start': False}\n"
     ]
    }
   ],
   "source": [
    "from sklearn.ensemble import RandomForestRegressor # A random forest is a meta estimator that fits a number of decision tree classifiers on various sub-samples of the dataset and use averaging to improve the predictive accuracy and control over-fitting.\n",
    "RFR = RandomForestRegressor(max_features=\"sqrt\") # [max_features] is the size of the random subsets of features to consider when splitting a node.\n",
    "parameters = { \"max_depth\": [5, 8, 25], \"min_samples_split\": [1.0, 2, 5], \"n_estimators\": [800, 1200]}\n",
    "print(RFR.get_params())\n",
    "#print(RFR.get_params().keys())"
   ]
  },
  {
   "cell_type": "code",
   "execution_count": 60,
   "metadata": {
    "scrolled": true
   },
   "outputs": [
    {
     "data": {
      "text/plain": [
       "GridSearchCV(cv=None, error_score='raise',\n",
       "       estimator=RandomForestRegressor(bootstrap=True, criterion='mse', max_depth=None,\n",
       "           max_features='sqrt', max_leaf_nodes=None,\n",
       "           min_impurity_decrease=0.0, min_impurity_split=None,\n",
       "           min_samples_leaf=1, min_samples_split=2,\n",
       "           min_weight_fraction_leaf=0.0, n_estimators=10, n_jobs=1,\n",
       "           oob_score=False, random_state=None, verbose=0, warm_start=False),\n",
       "       fit_params=None, iid=True, n_jobs=1,\n",
       "       param_grid={'max_depth': [5, 8, 25], 'min_samples_split': [1.0, 2, 5], 'n_estimators': [800, 1200]},\n",
       "       pre_dispatch='2*n_jobs', refit=True, return_train_score='warn',\n",
       "       scoring=None, verbose=0)"
      ]
     },
     "execution_count": 60,
     "metadata": {},
     "output_type": "execute_result"
    }
   ],
   "source": [
    "from sklearn.model_selection import GridSearchCV\n",
    "clf = GridSearchCV(RFR, parameters)\n",
    "#clf.fit(movie_data[num_features_2], labels=None)\n",
    "clf.fit(movie_data[num_features_2], labels)"
   ]
  },
  {
   "cell_type": "code",
   "execution_count": 61,
   "metadata": {
    "scrolled": true
   },
   "outputs": [
    {
     "name": "stdout",
     "output_type": "stream",
     "text": [
      "{'mean_fit_time': array([ 0.66395068,  1.03128862,  2.00518807,  2.64873505,  1.72089124,\n",
      "        2.57207306,  0.69794321,  0.85835123,  1.84334079,  2.75346367,\n",
      "        1.81481767,  2.77457174,  0.57283298,  0.8429176 ,  1.96761203,\n",
      "        3.05857698,  2.21741136,  3.21273168]), 'std_fit_time': array([ 0.07481612,  0.11622925,  0.18122674,  0.04940578,  0.07443864,\n",
      "        0.13983014,  0.07628603,  0.01698764,  0.02993793,  0.04503559,\n",
      "        0.04460918,  0.05509387,  0.0144473 ,  0.00127767,  0.04224991,\n",
      "        0.09139793,  0.15514393,  0.06062432]), 'mean_score_time': array([ 0.02664431,  0.05110749,  0.0719533 ,  0.14465563,  0.07428741,\n",
      "        0.09912014,  0.0357635 ,  0.03830814,  0.07251795,  0.11049827,\n",
      "        0.07170908,  0.11932619,  0.02636059,  0.03821476,  0.09378465,\n",
      "        0.13576833,  0.08504232,  0.13910031]), 'std_score_time': array([ 0.00151106,  0.00929374,  0.01565998,  0.03453378,  0.01211242,\n",
      "        0.01857023,  0.00385032,  0.00032126,  0.00111978,  0.00147606,\n",
      "        0.0013458 ,  0.01475585,  0.00074119,  0.00028451,  0.01863144,\n",
      "        0.02063893,  0.00402212,  0.01927235]), 'param_max_depth': masked_array(data = [5 5 5 5 5 5 8 8 8 8 8 8 25 25 25 25 25 25],\n",
      "             mask = [False False False False False False False False False False False False\n",
      " False False False False False False],\n",
      "       fill_value = ?)\n",
      ", 'param_min_samples_split': masked_array(data = [1.0 1.0 2 2 5 5 1.0 1.0 2 2 5 5 1.0 1.0 2 2 5 5],\n",
      "             mask = [False False False False False False False False False False False False\n",
      " False False False False False False],\n",
      "       fill_value = ?)\n",
      ", 'param_n_estimators': masked_array(data = [800 1200 800 1200 800 1200 800 1200 800 1200 800 1200 800 1200 800 1200\n",
      " 800 1200],\n",
      "             mask = [False False False False False False False False False False False False\n",
      " False False False False False False],\n",
      "       fill_value = ?)\n",
      ", 'params': [{'max_depth': 5, 'min_samples_split': 1.0, 'n_estimators': 800}, {'max_depth': 5, 'min_samples_split': 1.0, 'n_estimators': 1200}, {'max_depth': 5, 'min_samples_split': 2, 'n_estimators': 800}, {'max_depth': 5, 'min_samples_split': 2, 'n_estimators': 1200}, {'max_depth': 5, 'min_samples_split': 5, 'n_estimators': 800}, {'max_depth': 5, 'min_samples_split': 5, 'n_estimators': 1200}, {'max_depth': 8, 'min_samples_split': 1.0, 'n_estimators': 800}, {'max_depth': 8, 'min_samples_split': 1.0, 'n_estimators': 1200}, {'max_depth': 8, 'min_samples_split': 2, 'n_estimators': 800}, {'max_depth': 8, 'min_samples_split': 2, 'n_estimators': 1200}, {'max_depth': 8, 'min_samples_split': 5, 'n_estimators': 800}, {'max_depth': 8, 'min_samples_split': 5, 'n_estimators': 1200}, {'max_depth': 25, 'min_samples_split': 1.0, 'n_estimators': 800}, {'max_depth': 25, 'min_samples_split': 1.0, 'n_estimators': 1200}, {'max_depth': 25, 'min_samples_split': 2, 'n_estimators': 800}, {'max_depth': 25, 'min_samples_split': 2, 'n_estimators': 1200}, {'max_depth': 25, 'min_samples_split': 5, 'n_estimators': 800}, {'max_depth': 25, 'min_samples_split': 5, 'n_estimators': 1200}], 'split0_test_score': array([ -3.24570147e-04,  -3.36337386e-04,   9.35248521e-01,\n",
      "         9.31576912e-01,   9.36844252e-01,   9.32508938e-01,\n",
      "        -3.35581220e-04,  -3.48974418e-04,   9.79373768e-01,\n",
      "         9.80069130e-01,   9.79826917e-01,   9.80135562e-01,\n",
      "        -3.04689427e-04,  -3.58060701e-04,   9.89554891e-01,\n",
      "         9.88770343e-01,   9.90010296e-01,   9.88393477e-01]), 'split1_test_score': array([-0.00316874, -0.00317726,  0.90966963,  0.90766623,  0.90931777,\n",
      "        0.90783386, -0.00324185, -0.0033344 ,  0.96828683,  0.97125604,\n",
      "        0.96964282,  0.97124392, -0.00326557, -0.00324164,  0.98661153,\n",
      "        0.98697347,  0.98629093,  0.98547275]), 'split2_test_score': array([-0.00148398, -0.0014446 ,  0.9066626 ,  0.90166236,  0.89587621,\n",
      "        0.89692198, -0.00149202, -0.00143617,  0.97168912,  0.97256292,\n",
      "        0.9762128 ,  0.97320519, -0.00146591, -0.00147894,  0.98850074,\n",
      "        0.98841163,  0.98735071,  0.98850994]), 'mean_test_score': array([-0.0016591 , -0.00165273,  0.91719358,  0.91363517,  0.91401274,\n",
      "        0.91242159, -0.00168982, -0.00170652,  0.97311657,  0.97462936,\n",
      "        0.97522751,  0.97486156, -0.00167872, -0.00169288,  0.98822239,\n",
      "        0.98805181,  0.98788398,  0.98745872]), 'std_test_score': array([ 0.00116771,  0.0011691 ,  0.01282565,  0.01292133,  0.01705144,\n",
      "        0.01488609,  0.0011947 ,  0.0012337 ,  0.0046374 ,  0.00388332,\n",
      "        0.00421561,  0.00381427,  0.0012181 ,  0.0011869 ,  0.00121764,\n",
      "        0.00077644,  0.00156455,  0.0014051 ]), 'rank_test_score': array([14, 13,  9, 11, 10, 12, 16, 18,  8,  7,  5,  6, 15, 17,  1,  2,  3,\n",
      "        4], dtype=int32), 'split0_train_score': array([ -5.88691029e-09,  -4.07896485e-08,   9.31641108e-01,\n",
      "         9.30944465e-01,   9.31811172e-01,   9.31134566e-01,\n",
      "        -3.39310322e-08,  -2.45895589e-07,   9.86443267e-01,\n",
      "         9.87107038e-01,   9.86003925e-01,   9.85931197e-01,\n",
      "        -3.12827292e-07,  -4.95520906e-07,   9.98746343e-01,\n",
      "         9.98676369e-01,   9.97478228e-01,   9.97391834e-01]), 'split1_train_score': array([ -1.38234297e-06,  -1.20848230e-06,   9.29494215e-01,\n",
      "         9.26274261e-01,   9.28849218e-01,   9.27549468e-01,\n",
      "        -2.73649807e-07,  -8.55370470e-08,   9.85805031e-01,\n",
      "         9.87188084e-01,   9.86217033e-01,   9.86889159e-01,\n",
      "        -9.79927470e-08,  -2.75660700e-07,   9.98594034e-01,\n",
      "         9.98697568e-01,   9.97499993e-01,   9.97339054e-01]), 'split2_train_score': array([ -3.89411619e-08,  -1.48998744e-07,   9.35660333e-01,\n",
      "         9.32602892e-01,   9.30082678e-01,   9.30101006e-01,\n",
      "        -9.94369427e-08,  -2.61921318e-07,   9.87692109e-01,\n",
      "         9.88185476e-01,   9.88457644e-01,   9.87044924e-01,\n",
      "        -4.80719975e-09,  -1.51566251e-08,   9.98542365e-01,\n",
      "         9.98578050e-01,   9.97121448e-01,   9.97139390e-01]), 'mean_train_score': array([ -4.75723681e-07,  -4.66090230e-07,   9.32265218e-01,\n",
      "         9.29940540e-01,   9.30247689e-01,   9.29595013e-01,\n",
      "        -1.35672594e-07,  -1.97784651e-07,   9.86646802e-01,\n",
      "         9.87493533e-01,   9.86892867e-01,   9.86621760e-01,\n",
      "        -1.38542413e-07,  -2.62112743e-07,   9.98627580e-01,\n",
      "         9.98650663e-01,   9.97366556e-01,   9.97290093e-01]), 'std_train_score': array([  6.41218656e-07,   5.26805966e-07,   2.55569792e-03,\n",
      "         2.67940176e-03,   1.21482916e-03,   1.50670807e-03,\n",
      "         1.01163365e-07,   7.96402306e-08,   7.83724147e-04,\n",
      "         4.90395540e-04,   1.10987948e-03,   4.92425187e-04,\n",
      "         1.28976227e-07,   1.96341744e-07,   8.65860525e-05,\n",
      "         5.20691005e-05,   1.73545301e-04,   1.08719509e-04])}\n"
     ]
    }
   ],
   "source": [
    "print(clf.cv_results_)\n",
    "#print(clf.grid_scores_)\n",
    "#print(clf.cv_results_['params'])\n",
    "#'mean_fit_time''std_fit_time' 'mean_score_time' 'std_score_time' 'param_max_depth' 'param_min_samples_split' 'param_n_estimators'"
   ]
  },
  {
   "cell_type": "code",
   "execution_count": 62,
   "metadata": {
    "scrolled": true
   },
   "outputs": [
    {
     "name": "stdout",
     "output_type": "stream",
     "text": [
      "Rank: 1\n",
      "Mean validation score: 0.988 (std: 0.001)\n",
      "Parameters: {'max_depth': 25, 'min_samples_split': 2, 'n_estimators': 800}\n",
      "\n",
      "Rank: 2\n",
      "Mean validation score: 0.988 (std: 0.001)\n",
      "Parameters: {'max_depth': 25, 'min_samples_split': 2, 'n_estimators': 1200}\n",
      "\n",
      "Rank: 3\n",
      "Mean validation score: 0.988 (std: 0.002)\n",
      "Parameters: {'max_depth': 25, 'min_samples_split': 5, 'n_estimators': 800}\n",
      "\n"
     ]
    },
    {
     "name": "stderr",
     "output_type": "stream",
     "text": [
      "/Users/gaddamnitish/anaconda3/lib/python3.6/site-packages/sklearn/model_selection/_search.py:761: DeprecationWarning: The grid_scores_ attribute was deprecated in version 0.18 in favor of the more elaborate cv_results_ attribute. The grid_scores_ attribute will not be available from 0.20\n",
      "  DeprecationWarning)\n"
     ]
    }
   ],
   "source": [
    "\n",
    "\n",
    "from operator import itemgetter\n",
    "# Utility function to report best scores\n",
    "def report(grid_scores, n_top=3):\n",
    "    top_scores = sorted(grid_scores, key=itemgetter(1), reverse=True)[:n_top]\n",
    "    for i, score in enumerate(top_scores):\n",
    "        print(\"Rank: {0}\".format(i + 1))\n",
    "        print(\"Mean validation score: {0:.3f} (std: {1:.3f})\".format(\n",
    "              score.mean_validation_score,\n",
    "              np.std(score.cv_validation_scores)))\n",
    "        print(\"Parameters: {0}\".format(score.parameters))\n",
    "        print(\"\")\n",
    "        \n",
    "report(clf.grid_scores_)\n",
    "\n",
    "#print(clf.cv_results_)"
   ]
  },
  {
   "cell_type": "markdown",
   "metadata": {},
   "source": [
    "##Training"
   ]
  },
  {
   "cell_type": "code",
   "execution_count": 63,
   "metadata": {},
   "outputs": [],
   "source": [
    "#my_classifiers = list(movie_data['director_facebook_likes'], movie_data['actor_1_facebook_likes'], movie_data['actor_2_facebook_likes'], movie_data['actor_3_facebook_likes'])\n",
    "#print(my_classifiers)\n"
   ]
  },
  {
   "cell_type": "code",
   "execution_count": null,
   "metadata": {},
   "outputs": [],
   "source": []
  },
  {
   "cell_type": "code",
   "execution_count": null,
   "metadata": {},
   "outputs": [],
   "source": []
  },
  {
   "cell_type": "code",
   "execution_count": null,
   "metadata": {},
   "outputs": [],
   "source": []
  },
  {
   "cell_type": "code",
   "execution_count": null,
   "metadata": {},
   "outputs": [],
   "source": []
  }
 ],
 "metadata": {
  "kernelspec": {
   "display_name": "Python 3",
   "language": "python",
   "name": "python3"
  },
  "language_info": {
   "codemirror_mode": {
    "name": "ipython",
    "version": 3
   },
   "file_extension": ".py",
   "mimetype": "text/x-python",
   "name": "python",
   "nbconvert_exporter": "python",
   "pygments_lexer": "ipython3",
   "version": "3.6.4"
  }
 },
 "nbformat": 4,
 "nbformat_minor": 2
}
