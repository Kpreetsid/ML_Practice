{
 "cells": [
  {
   "cell_type": "markdown",
   "metadata": {},
   "source": [
    "Ipython for the lazy beginner!\n",
    "\n",
    "#IPython is an interactive command-line terminal for Python. IPython offers an enhanced read-eval-print loop (REPL) environment particularly well adapted to scientific computing."
   ]
  },
  {
   "cell_type": "code",
   "execution_count": null,
   "metadata": {},
   "outputs": [],
   "source": [
    "#Python has a built-in help() function that can access this information and print the results.\n",
    "help(len)\n",
    "\n",
    "#Because finding help on an object is so common and useful, IPython introduces the ? character as a shorthand \n",
    "#for accessing this documentation and other relevant information\n",
    "len?"
   ]
  },
  {
   "cell_type": "code",
   "execution_count": null,
   "metadata": {},
   "outputs": [],
   "source": [
    "L= [1,2,3]\n",
    "L.insert?"
   ]
  },
  {
   "cell_type": "code",
   "execution_count": null,
   "metadata": {},
   "outputs": [],
   "source": [
    "L?"
   ]
  },
  {
   "cell_type": "code",
   "execution_count": null,
   "metadata": {},
   "outputs": [],
   "source": [
    "def square(a):\n",
    "    \"\"\"Return the square of a\"\"\"\n",
    "    return(a*a)"
   ]
  },
  {
   "cell_type": "code",
   "execution_count": null,
   "metadata": {},
   "outputs": [],
   "source": [
    "#Importantly, this will even work for functions or other objects you create yourself! \n",
    "#Here we’ll define a small function with a docstring:\n",
    "square?\n",
    "square(2)"
   ]
  },
  {
   "cell_type": "code",
   "execution_count": null,
   "metadata": {},
   "outputs": [],
   "source": [
    "#IPython pro‐ vides a shortcut to the source code with the double question mark (??)\n",
    "square??"
   ]
  },
  {
   "cell_type": "code",
   "execution_count": null,
   "metadata": {},
   "outputs": [],
   "source": [
    "#If you play with this much, you’ll notice that sometimes the ?? suffix doesn’t display any source code: \n",
    "#this is generally because the object in question is not implemented in Python, but in C or some other \n",
    "#compiled extension language. If this is the case, the ?? suffix gives the same output as the ? suffix. \n",
    "#You’ll find this particularly with many of Python’s built-in objects and types, for example len\n",
    "len??"
   ]
  },
  {
   "cell_type": "code",
   "execution_count": null,
   "metadata": {},
   "outputs": [],
   "source": [
    "#Python has a built-in dir function that returns a list of various attributes and methods associated with it, \n",
    "#but the tab-completion interface is much easier to use in practice. \n",
    "#L.<Tab>\n",
    "L.append(8)\n",
    "L.reverse()\n",
    "L"
   ]
  },
  {
   "cell_type": "code",
   "execution_count": null,
   "metadata": {},
   "outputs": [],
   "source": [
    "#Though Python has no strictly enforced distinction between public/external attributes and private/internal attributes,\n",
    "#by convention a preceding underscore is used to denote such methods. For clarity, these private methods and special \n",
    "#methods are omitted from the list by default, but it’s possible to list them by explicitly typing the underscore:\n",
    "#L._<Tab>\n",
    "L.__contains__(1)"
   ]
  },
  {
   "cell_type": "code",
   "execution_count": null,
   "metadata": {},
   "outputs": [],
   "source": [
    "#Tab completion is also useful when importing objects from packages. \n",
    "#from itertools import <tab>\n",
    "from itertools import combinations"
   ]
  },
  {
   "cell_type": "code",
   "execution_count": null,
   "metadata": {},
   "outputs": [],
   "source": [
    "#Tab completion is useful if you know the first few characters of the object or attribute you’re looking for, \n",
    "#but is little help if you’d like to match characters at the middle or end of the word. For this use case, \n",
    "#IPython provides a means of wildcard matching for names using the * character.\n",
    "*warning?"
   ]
  },
  {
   "cell_type": "code",
   "execution_count": null,
   "metadata": {},
   "outputs": [],
   "source": [
    "str.*find?"
   ]
  },
  {
   "cell_type": "code",
   "execution_count": null,
   "metadata": {},
   "outputs": [],
   "source": [
    "#%paste\n",
    "#%cpaste\n",
    "#Couldn't figure these 2 out.....Page 11 DS Handbook"
   ]
  },
  {
   "cell_type": "code",
   "execution_count": null,
   "metadata": {},
   "outputs": [],
   "source": [
    "#We can run external code saved in .py files using the %run function.\n",
    "#For example lets say we have hello.py saved on desktop. We can run it here as follows:\n",
    "%run Desktop/download.py"
   ]
  },
  {
   "cell_type": "code",
   "execution_count": null,
   "metadata": {},
   "outputs": [],
   "source": [
    "# %timeit - determine the execution time of the single-line Python statement\n",
    "%timeit L = [n ** 2 for n in range(1000)]"
   ]
  },
  {
   "cell_type": "code",
   "execution_count": null,
   "metadata": {},
   "outputs": [],
   "source": [
    " %%timeit  #A scond % will help us see the execution time of a multi line statement\n",
    " L = []\n",
    " for n in range(1000):\n",
    "     L.append(n ** 2)\n"
   ]
  },
  {
   "cell_type": "code",
   "execution_count": null,
   "metadata": {},
   "outputs": [],
   "source": [
    "#Run this to see the doc string\n",
    "#%lsmagic\n",
    "%magic"
   ]
  },
  {
   "cell_type": "code",
   "execution_count": null,
   "metadata": {},
   "outputs": [],
   "source": [
    "#These inputs and outputs are displayed in the shell with In/Out labels, but there’s more—IPython actually \n",
    "#creates some Python variables called In and Out that are automatically updated to reflect this history.\n",
    "print(In)"
   ]
  },
  {
   "cell_type": "code",
   "execution_count": null,
   "metadata": {},
   "outputs": [],
   "source": [
    "print(In[1])"
   ]
  },
  {
   "cell_type": "code",
   "execution_count": null,
   "metadata": {},
   "outputs": [],
   "source": [
    "print(_)\n",
    "print(__)"
   ]
  },
  {
   "cell_type": "code",
   "execution_count": null,
   "metadata": {},
   "outputs": [],
   "source": [
    "# ls = list working directory contents\n",
    "# mkdir = make new directory\n",
    "# cd = change directory\n",
    "# mv = move file. Here we're moving the file myproject.txt from one directory up (../) to the current directory (./)\n",
    "ls"
   ]
  },
  {
   "cell_type": "code",
   "execution_count": null,
   "metadata": {},
   "outputs": [],
   "source": [
    "# pwd = print working directory\n",
    "pwd"
   ]
  },
  {
   "cell_type": "code",
   "execution_count": null,
   "metadata": {},
   "outputs": [],
   "source": [
    "def func1(a, b): \n",
    "    return(a/b)\n",
    "def func2(x): \n",
    "    a=x\n",
    "    b=x-1\n",
    "    return func1(a, b)"
   ]
  },
  {
   "cell_type": "code",
   "execution_count": null,
   "metadata": {},
   "outputs": [],
   "source": [
    "func2(5)"
   ]
  },
  {
   "cell_type": "code",
   "execution_count": null,
   "metadata": {},
   "outputs": [],
   "source": [
    "func2(1)"
   ]
  },
  {
   "cell_type": "code",
   "execution_count": null,
   "metadata": {},
   "outputs": [],
   "source": [
    "%xmode Plain\n",
    "%pdb on\n",
    "func2(1)"
   ]
  },
  {
   "cell_type": "markdown",
   "metadata": {},
   "source": [
    "%time\n",
    "Time the execution of a single statement\n",
    "\n",
    "%timeit\n",
    "Time repeated execution of a single statement for more accuracy\n",
    "\n",
    "%prun\n",
    "Run code with the profiler\n",
    "\n",
    "%lprun\n",
    "Run code with the line-by-line profiler\n",
    "\n",
    "%memit\n",
    "Measure the memory use of a single statement\n",
    "\n",
    "%mprun\n",
    "Run code with the line-by-line memory profiler"
   ]
  },
  {
   "cell_type": "code",
   "execution_count": null,
   "metadata": {},
   "outputs": [],
   "source": []
  },
  {
   "cell_type": "code",
   "execution_count": null,
   "metadata": {},
   "outputs": [],
   "source": []
  }
 ],
 "metadata": {
  "kernelspec": {
   "display_name": "Python 3",
   "language": "python",
   "name": "python3"
  },
  "language_info": {
   "codemirror_mode": {
    "name": "ipython",
    "version": 3
   },
   "file_extension": ".py",
   "mimetype": "text/x-python",
   "name": "python",
   "nbconvert_exporter": "python",
   "pygments_lexer": "ipython3",
   "version": "3.6.4"
  }
 },
 "nbformat": 4,
 "nbformat_minor": 2
}
